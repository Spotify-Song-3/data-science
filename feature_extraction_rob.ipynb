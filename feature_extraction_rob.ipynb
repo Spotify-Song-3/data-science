{
 "cells": [
  {
   "cell_type": "code",
   "execution_count": 94,
   "metadata": {},
   "outputs": [
    {
     "name": "stdout",
     "output_type": "stream",
     "text": "track                  : You Were a Saint\nartist(s)              : L'Anarchiste\ntrack id               : 5lrbemzIFEyHj7QTYKKdcU\nsong spotify link      : https://open.spotify.com/track/5lrbemzIFEyHj7QTYKKdcU\nartist id              : 37ArqRBcGcIj8LAjK0kFQn\nrelease date           : 2015-07-14\nrelease date precision : day\nduration (ms)          : 234754\npopularity             : 8\nexplicit (true/false)  : False\ncover art 300x300 JFIF : https://i.scdn.co/image/ab67616d00001e02af0f4be046b7232b1f3eb9bb\ndanceability           : 0.609\nenergy                 : 0.531\nkey                    : 6\nloudness               : -10.211\nmode                   : 1\nspeechiness            : 0.0358\nacousticness           : 0.389\ninstrumentalness       : 0.112\nliveness               : 0.119\nvalence                : 0.16\ntempo                  : 89.98\ntime signature         : 4\nnum artist followers   : 1114\nartist genres          : ['slc indie']\nartist popularity      : 10\nartist spotify avatar  : https://i.scdn.co/image/ab67616d00001e02af0f4be046b7232b1f3eb9bb\nartist spotify link    : https://open.spotify.com/artist/37ArqRBcGcIj8LAjK0kFQn\nSearching for \"You Were a Saint\" by L'Anarchiste...\nDone.\nLyrics found. All features retrieved in 4.57 seconds\n\n"
    }
   ],
   "source": [
    "import requests\n",
    "import spotipy\n",
    "import lyricsgenius as genius\n",
    "import json\n",
    "import time\n",
    "import statistics\n",
    "from spotipy.oauth2 import SpotifyClientCredentials\n",
    "\n",
    "\n",
    "#   Spotify API user credentials, generate token\n",
    "CLIENT_ID = \"09cdac09aca04b7093270e33247e1aea\"\n",
    "CLIENT_SECRET = \"243a42f4fb044d34b048a19ea97d5702\"\n",
    "credentials = SpotifyClientCredentials(\n",
    "        client_id=CLIENT_ID,\n",
    "        client_secret=CLIENT_SECRET)\n",
    "\n",
    "token = credentials.get_access_token(as_dict=False)\n",
    "spotify = spotipy.Spotify(auth=token)\n",
    "spotify.trace = False\n",
    "\n",
    "#   Genius API settings and user credentials\n",
    "genius_api = genius.Genius(\"T-bfzytjCOguYO2L9hG7_tX0-b_p6BJG1pxJClgTS_37EEo3kkbmfbo3YRhnZ94o\")\n",
    "genius.verbose = True                         # Keep status messages on\n",
    "genius.remove_section_headers = False         # Remove section headers (e.g. [Chorus]) from lyrics when searching\n",
    "genius.excluded_terms = [\"(Remix)\", \"(Live)\"] # Exclude songs with these words in their title\n",
    "\n",
    "start = time.time()\n",
    "\n",
    "# Initial user query for a track name\n",
    "results = spotify.search(q=\"you were a saint\", type='track', limit=1, offset=1)\n",
    "\n",
    "if len(results['tracks']['items']) > 0:\n",
    "    track = results['tracks']['items'][0]\n",
    "    audio_features = spotify.audio_features(str(track['uri']))[0]\n",
    "    audio_analysis = spotify.audio_analysis(str(track['uri']))\n",
    "    primary_artist = spotify.artist(str(track['album']['artists'][0]['uri']))\n",
    "    # recommend_seed = spotify.recommendations(seed_artists=None, seed_genres=None, seed_tracks=None, limit=20, country=None)\n",
    "\n",
    "    # Features from initial spotify.search API call\n",
    "    track_name = str(track['name'])\n",
    "    print('track                  : ' + track_name)\n",
    "    artist_name = str(track['artists'][0]['name'])\n",
    "    print('artist(s)              : ' + artist_name)\n",
    "    print('track id               : ' + str(track['id']))\n",
    "    print('song spotify link      : ' + str(track['external_urls']['spotify']))\n",
    "    print('artist id              : ' + str(track['artists'][0]['id']))\n",
    "    print('release date           : ' + str(track['album']['release_date']))\n",
    "    print('release date precision : ' + str(track['album']['release_date_precision']))\n",
    "    print('duration (ms)          : ' + str(track['duration_ms']))\n",
    "    print('popularity             : ' + str(track['popularity']))\n",
    "    print('explicit (true/false)  : ' + str(track['explicit']))\n",
    "    # print('audio preview          : ' + track['preview_url'])\n",
    "    print('cover art 300x300 JFIF : ' + track['album']['images'][1]['url'])\n",
    "\n",
    "    # Features from spotify.audio_features API call\n",
    "    print('danceability           : ' + str(audio_features['danceability']))\n",
    "    print('energy                 : ' + str(audio_features['energy']))\n",
    "    print('key                    : ' + str(audio_features['key']))\n",
    "    print('loudness               : ' + str(audio_features['loudness']))\n",
    "    print('mode                   : ' + str(audio_features['mode']))\n",
    "    print('speechiness            : ' + str(audio_features['speechiness']))\n",
    "    print('acousticness           : ' + str(audio_features['acousticness']))\n",
    "    print('instrumentalness       : ' + str(audio_features['instrumentalness']))\n",
    "    print('liveness               : ' + str(audio_features['liveness']))\n",
    "    print('valence                : ' + str(audio_features['valence']))\n",
    "    print('tempo                  : ' + str(audio_features['tempo']))\n",
    "    print('time signature         : ' + str(audio_features['time_signature']))\n",
    "\n",
    "    # Features from spotify.artist API call\n",
    "    print('num artist followers   : ' + str(primary_artist['followers']['total']))\n",
    "    print('artist genres          : ' + str(primary_artist['genres']))\n",
    "    print('artist popularity      : ' + str(primary_artist['popularity']))\n",
    "    print('artist spotify avatar  : ' + str(primary_artist['images'][1]['url']))\n",
    "    print('artist spotify link    : ' + str(primary_artist['external_urls']['spotify']))\n",
    "\n",
    "    # Search for song lyrics via Genius API\n",
    "    song = genius_api.search_song(track_name, artist_name)\n",
    "    if song is None:\n",
    "      delta = time.time() - start\n",
    "      print(\"Lyrics not found. Other features retrieved in %.2f seconds\" % (delta,))\n",
    "      print()\n",
    "    else:\n",
    "      lyrics = song.lyrics\n",
    "      delta = time.time() - start\n",
    "      print(\"Lyrics found. All features retrieved in %.2f seconds\" % (delta,))\n",
    "      print()\n",
    "else:\n",
    "    print('Track not found')"
   ]
  },
  {
   "cell_type": "code",
   "execution_count": 42,
   "metadata": {},
   "outputs": [
    {
     "name": "stdout",
     "output_type": "stream",
     "text": "I never thought you were a saint\nI just wanted you to be the one\nI always figure you would stay\nBut now you’re gone\nYou’re gone\n\nSo burn away my time\nI want your hand in mine\nIt hurt to see you go\n'cause I was in love with you\n\nI’m caught here balanced on a wire\nBound between your heart and mine\nI should have given so much more\nInstead I watched you walk away\n\nIn my mind\nThere you are\nWith me\nIn your arms\nI feel so alive\nWhen you're mine\nBut here we are\nYou’re gone\nOn your own\nI’m here\nAll alone\nI just could not speak\nA word\nSo within my mind\nHere you are\nWith me\nIn your arms\nI feel so alive\n"
    }
   ],
   "source": [
    "print(lyrics)"
   ]
  },
  {
   "cell_type": "code",
   "execution_count": 43,
   "metadata": {},
   "outputs": [
    {
     "name": "stdout",
     "output_type": "stream",
     "text": "meta\ntrack\nbars\nbeats\ntatums\nsections\nsegments\n"
    }
   ],
   "source": [
    "for key, value in audio_analysis.items() :\n",
    "    print (key)"
   ]
  },
  {
   "cell_type": "code",
   "execution_count": 44,
   "metadata": {},
   "outputs": [
    {
     "name": "stdout",
     "output_type": "stream",
     "text": "{'start': 0.0, 'duration': 92.9788, 'confidence': 1.0, 'loudness': -11.15, 'tempo': 89.994, 'tempo_confidence': 0.472, 'key': 6, 'key_confidence': 0.646, 'mode': 1, 'mode_confidence': 0.541, 'time_signature': 4, 'time_signature_confidence': 1.0} \n\n{'start': 92.9788, 'duration': 9.99774, 'confidence': 0.715, 'loudness': -14.927, 'tempo': 89.96, 'tempo_confidence': 0.424, 'key': 1, 'key_confidence': 0.0, 'mode': 1, 'mode_confidence': 0.0, 'time_signature': 4, 'time_signature_confidence': 1.0} \n\n{'start': 102.97654, 'duration': 21.35648, 'confidence': 0.721, 'loudness': -9.374, 'tempo': 90.004, 'tempo_confidence': 0.629, 'key': 4, 'key_confidence': 0.049, 'mode': 1, 'mode_confidence': 0.361, 'time_signature': 4, 'time_signature_confidence': 1.0} \n\n{'start': 124.33302, 'duration': 26.65093, 'confidence': 0.041, 'loudness': -8.209, 'tempo': 90.021, 'tempo_confidence': 0.302, 'key': 6, 'key_confidence': 0.0, 'mode': 1, 'mode_confidence': 0.0, 'time_signature': 4, 'time_signature_confidence': 1.0} \n\n{'start': 150.98395, 'duration': 13.99343, 'confidence': 0.425, 'loudness': -13.689, 'tempo': 90.067, 'tempo_confidence': 0.513, 'key': 6, 'key_confidence': 0.0, 'mode': 1, 'mode_confidence': 0.0, 'time_signature': 4, 'time_signature_confidence': 1.0} \n\n{'start': 164.97738, 'duration': 9.33734, 'confidence': 0.318, 'loudness': -9.824, 'tempo': 89.944, 'tempo_confidence': 0.531, 'key': 1, 'key_confidence': 0.095, 'mode': 1, 'mode_confidence': 0.272, 'time_signature': 4, 'time_signature_confidence': 1.0} \n\n{'start': 174.31472, 'duration': 11.33516, 'confidence': 0.263, 'loudness': -9.379, 'tempo': 89.966, 'tempo_confidence': 0.505, 'key': 6, 'key_confidence': 0.0, 'mode': 1, 'mode_confidence': 0.0, 'time_signature': 4, 'time_signature_confidence': 0.867} \n\n{'start': 185.64988, 'duration': 26.00242, 'confidence': 0.182, 'loudness': -9.73, 'tempo': 90.015, 'tempo_confidence': 0.409, 'key': 6, 'key_confidence': 0.555, 'mode': 1, 'mode_confidence': 0.659, 'time_signature': 4, 'time_signature_confidence': 0.781} \n\n{'start': 211.6523, 'duration': 23.1018, 'confidence': 0.59, 'loudness': -8.874, 'tempo': 90.006, 'tempo_confidence': 0.356, 'key': 1, 'key_confidence': 0.445, 'mode': 0, 'mode_confidence': 0.324, 'time_signature': 3, 'time_signature_confidence': 1.0} \n\n"
    }
   ],
   "source": [
    "for i in range(len(audio_analysis['sections'])):\n",
    "    print(audio_analysis['sections'][i], '\\n')"
   ]
  },
  {
   "cell_type": "code",
   "execution_count": 45,
   "metadata": {},
   "outputs": [
    {
     "name": "stdout",
     "output_type": "stream",
     "text": " -17.279, -16.941, -9.631, -12.486, -30.066]} \n\n{'start': 220.30658, 'duration': 0.10526, 'confidence': 0.506, 'loudness_start': -12.335, 'loudness_max_time': 0.00324, 'loudness_max': -6.015, 'pitches': [0.405, 0.386, 0.364, 0.77, 0.832, 0.804, 1.0, 0.851, 0.577, 0.577, 0.241, 0.372], 'timbre': [50.207, -7.969, -19.807, 0.789, 13.298, -68.757, -26.169, -33.752, -20.679, 25.982, -14.094, 14.183]} \n\n{'start': 220.41184, 'duration': 0.24159, 'confidence': 0.318, 'loudness_start': -12.129, 'loudness_max_time': 0.07002, 'loudness_max': -8.369, 'pitches': [0.709, 0.412, 0.2, 0.258, 0.14, 0.294, 0.33, 0.125, 0.16, 0.149, 0.162, 1.0], 'timbre': [48.457, 13.171, -26.096, -21.853, 35.382, -40.059, 4.649, 61.908, -4.885, -12.195, -13.418, -6.608]} \n\n{'start': 220.65342, 'duration': 0.1893, 'confidence': 0.671, 'loudness_start': -14.739, 'loudness_max_time': 0.06778, 'loudness_max': -7.294, 'pitches': [0.683, 0.536, 0.183, 1.0, 0.19, 0.191, 0.286, 0.107, 0.12, 0.153, 0.133, 0.886], 'timbre': [49.661, 38.318, 14.249, -34.364, -27.818, 12.003, -41.76, -18.888, -17.071, -6.4, -8.413, -27.19]} \n\n{'start': 220.84272, 'duration': 0.08327, 'confidence': 0.169, 'loudness_start': -11.355, 'loudness_max_time': 0.03925, 'loudness_max': -8.218, 'pitches': [0.551, 0.948, 0.866, 1.0, 0.857, 0.883, 0.932, 0.926, 0.9, 0.905, 0.46, 0.241], 'timbre': [50.465, 26.061, 14.316, -24.739, -44.438, -23.409, -33.956, -5.42, 0.529, -2.883, -1.504, -45.371]} \n\n{'start': 220.92599, 'duration': 0.37823, 'confidence': 0.194, 'loudness_start': -10.397, 'loudness_max_time': 0.04905, 'loudness_max': -6.222, 'pitches': [0.168, 0.156, 0.294, 0.333, 0.166, 0.351, 1.0, 0.483, 0.057, 0.055, 0.108, 0.606], 'timbre': [50.422, 30.571, -12.029, 15.404, -21.349, -17.302, -44.914, -24.956, -16.04, -16.863, -22.673, -13.672]} \n\n{'start': 221.30422, 'duration': 0.32068, 'confidence': 0.442, 'loudness_start': -14.52, 'loudness_max_time': 0.1595, 'loudness_max': -7.914, 'pitches': [0.546, 0.322, 0.158, 0.216, 0.099, 0.08, 0.199, 0.164, 0.966, 0.124, 0.193, 1.0], 'timbre': [48.193, -56.846, 10.384, -63.901, 19.593, -27.11, -1.139, 5.609, -9.153, 4.971, -6.639, -1.567]} \n\n{'start': 221.6249, 'duration': 0.09683, 'confidence': 0.549, 'loudness_start': -11.025, 'loudness_max_time': 0.0173, 'loudness_max': -5.301, 'pitches': [0.423, 0.457, 0.365, 0.483, 0.736, 0.679, 0.884, 0.829, 1.0, 0.605, 0.321, 0.196], 'timbre': [50.149, -16.95, -22.038, 28.056, 37.37, -36.771, -11.042, -33.488, -24.284, -6.015, 9.152, 13.691]} \n\n{'start': 221.72172, 'duration': 0.54073, 'confidence': 0.224, 'loudness_start': -13.52, 'loudness_max_time': 0.14299, 'loudness_max': -9.563, 'pitches': [0.163, 0.151, 0.1, 0.186, 0.051, 0.128, 0.59, 1.0, 0.911, 0.337, 0.344, 0.489], 'timbre': [47.833, -69.632, 0.863, -41.07, 36.809, -30.223, -31.958, 14.403, -4.472, 0.264, -8.247, -2.37]} \n\n{'start': 222.26245, 'duration': 0.34662, 'confidence': 0.843, 'loudness_start': -16.618, 'loudness_max_time': 0.04993, 'loudness_max': -6.16, 'pitches': [0.297, 0.306, 0.084, 0.185, 0.084, 0.064, 0.116, 0.041, 0.234, 0.024, 0.076, 1.0], 'timbre': [47.825, -24.296, 24.116, -26.49, 41.658, 16.868, 23.298, -27.269, 5.242, -31.246, -12.195, 3.522]} \n\n{'start': 222.60907, 'duration': 0.36358, 'confidence': 0.143, 'loudness_start': -12.408, 'loudness_max_time': 0.20086, 'loudness_max': -9.052, 'pitches': [0.573, 0.659, 0.169, 0.238, 0.138, 0.149, 0.214, 0.071, 0.218, 0.118, 0.235, 1.0], 'timbre': [49.354, -56.137, 69.176, 2.741, 24.226, -41.381, 49.833, 20.054, -7.878, 6.121, 0.36, 10.237]} \n\n{'start': 222.97265, 'duration': 0.14803, 'confidence': 0.643, 'loudness_start': -11.896, 'loudness_max_time': 0.01102, 'loudness_max': -4.287, 'pitches': [0.655, 0.729, 0.151, 0.217, 0.712, 0.712, 1.0, 0.931, 0.569, 0.428, 0.578, 0.227], 'timbre': [51.174, -48.571, 46.239, 47.368, 36.997, -74.739, 38.776, -31.003, -12.609, 34.344, -17.873, 11.153]} \n\n{'start': 223.12068, 'duration': 0.31664, 'confidence': 0.174, 'loudness_start': -12.622, 'loudness_max_time': 0.01868, 'loudness_max': -8.08, 'pitches': [0.243, 0.399, 0.092, 0.06, 0.016, 0.018, 0.222, 0.074, 0.111, 0.023, 0.04, 1.0], 'timbre': [47.877, -85.434, 12.036, 36.803, 50.619, -61.388, 49.541, -3.271, -12.693, -4.442, -1.511, -3.691]} \n\n{'start': 223.43732, 'duration': 0.1298, 'confidence': 0.369, 'loudness_start': -17.248, 'loudness_max_time': 0.03562, 'loudness_max': -11.864, 'pitches': [0.435, 0.442, 0.164, 0.153, 0.526, 0.539, 0.952, 0.928, 1.0, 0.983, 0.736, 0.129], 'timbre': [45.562, -55.294, -25.992, -17.861, 37.587, -42.846, 28.727, 25.054, 21.254, -18.958, 10.627, 14.861]} \n\n{'start': 223.56712, 'duration': 0.22, 'confidence': 0.721, 'loudness_start': -15.387, 'loudness_max_time': 0.08161, 'loudness_max': -6.389, 'pitches': [0.6, 0.423, 0.193, 0.364, 0.308, 0.189, 0.362, 0.141, 0.192, 0.14, 0.202, 1.0], 'timbre': [47.494, 19.306, -9.658, -29.611, 32.559, -4.366, 23.578, -5.643, 11.697, -17.834, -31.402, -8.266]} \n\n{'start': 223.78712, 'duration': 0.18685, 'confidence': 0.812, 'loudness_start': -20.419, 'loudness_max_time': 0.04474, 'loudness_max': -9.245, 'pitches': [0.685, 0.974, 0.379, 0.137, 0.047, 0.078, 0.248, 0.051, 0.14, 0.059, 0.157, 1.0], 'timbre': [47.541, 21.53, -12.81, -24.289, 56.992, -8.401, 9.587, 33.17, -15.257, -15.456, 25.222, -5.883]} \n\n{'start': 223.97397, 'duration': 0.32508, 'confidence': 0.784, 'loudness_start': -13.582, 'loudness_max_time': 0.04499, 'loudness_max': -4.465, 'pitches': [0.24, 1.0, 0.767, 0.334, 0.237, 0.146, 0.084, 0.139, 0.352, 0.402, 0.583, 0.37], 'timbre': [52.597, 12.352, 47.415, -0.82, 7.863, 7.576, 49.141, 0.409, -16.941, -0.321, -12.399, 13.74]} \n\n{'start': 224.29905, 'duration': 0.36989, 'confidence': 0.421, 'loudness_start': -11.601, 'loudness_max_time': 0.00812, 'loudness_max': -5.19, 'pitches': [0.207, 1.0, 0.448, 0.137, 0.083, 0.196, 0.548, 0.317, 0.555, 0.135, 0.21, 0.162], 'timbre': [50.741, 10.542, -27.34, 5.836, 47.444, -63.555, -28.943, -9.927, -14.918, 7.984, -9.709, 5.107]} \n\n{'start': 224.66893, 'duration': 0.06621, 'confidence': 0.044, 'loudness_start': -13.957, 'loudness_max_time': 0.01932, 'loudness_max': -11.174, 'pitches': [0.579, 0.96, 0.789, 0.777, 0.93, 0.978, 1.0, 0.992, 0.952, 0.921, 0.362, 0.346], 'timbre': [46.987, -42.481, -8.807, -26.401, -9.578, -50.22, 22.52, 4.334, -17.585, -2.657, 7.295, 20.192]} \n\n{'start': 224.73515, 'duration': 0.23129, 'confidence': 0.383, 'loudness_start': -13.662, 'loudness_max_time': 0.0446, 'loudness_max': -9.405, 'pitches': [0.189, 0.196, 0.26, 1.0, 0.637, 0.962, 0.405, 0.066, 0.12, 0.065, 0.156, 0.058], 'timbre': [49.407, -36.192, 14.006, -21.202, 33.378, -33.113, 45.616, 3.344, -13.341, 1.284, 6.45, -5.851]} \n\n{'start': 224.96644, 'duration': 0.49932, 'confidence': 0.536, 'loudness_start': -11.759, 'loudness_max_time': 0.01159, 'loudness_max': -4.401, 'pitches': [0.08, 0.132, 0.118, 1.0, 0.187, 0.361, 0.158, 0.061, 0.04, 0.029, 0.044, 0.02], 'timbre': [51.013, -17.012, 29.717, 35.069, 51.572, -82.762, 28.302, -37.459, -8.0, 27.175, -13.855, -6.403]} \n\n{'start': 225.46576, 'duration': 0.11515, 'confidence': 0.345, 'loudness_start': -12.793, 'loudness_max_time': 0.00855, 'loudness_max': -8.222, 'pitches': [0.254, 0.141, 0.183, 0.341, 0.588, 0.68, 0.952, 0.925, 0.999, 1.0, 0.651, 0.009], 'timbre': [49.911, -60.918, 23.163, -1.332, 36.196, -60.392, 52.335, 7.613, -16.948, 27.215, -14.407, -2.334]} \n\n{'start': 225.58091, 'duration': 0.18177, 'confidence': 0.586, 'loudness_start': -11.277, 'loudness_max_time': 0.06127, 'loudness_max': -4.979, 'pitches': [0.138, 0.199, 0.12, 0.419, 0.728, 0.743, 1.0, 0.967, 0.402, 0.41, 0.088, 0.014], 'timbre': [50.353, -37.436, 23.099, -4.955, 49.383, -24.934, 59.438, 24.096, 1.43, -21.697, -37.642, -12.848]} \n\n{'start': 225.76268, 'duration': 0.20807, 'confidence': 0.087, 'loudness_start': -12.934, 'loudness_max_time': 0.03032, 'loudness_max': -10.53, 'pitches': [0.662, 1.0, 0.689, 0.471, 0.258, 0.644, 0.324, 0.183, 0.217, 0.159, 0.076, 0.692], 'timbre': [47.475, -24.55, -14.126, 5.348, 40.726, -38.901, 35.179, -4.373, 5.434, -3.603, -22.871, 17.515]} \n\n{'start': 225.97075, 'duration': 0.06984, 'confidence': 0.071, 'loudness_start': -17.251, 'loudness_max_time': 0.0122, 'loudness_max': -12.349, 'pitches': [0.644, 0.865, 0.811, 0.785, 0.803, 1.0, 0.873, 0.807, 0.889, 0.886, 0.46, 0.243], 'timbre': [45.507, -66.082, -25.203, -20.823, 45.729, -72.92, 19.823, -8.909, -27.827, 0.468, -6.569, -0.604]} \n\n{'start': 226.04059, 'duration': 0.20522, 'confidence': 0.274, 'loudness_start': -15.788, 'loudness_max_time': 0.1117, 'loudness_max': -11.676, 'pitches': [0.533, 0.419, 0.27, 0.214, 0.238, 0.43, 1.0, 0.148, 0.132, 0.324, 0.616, 0.628], 'timbre': [46.885, -30.916, -34.864, -56.476, 44.843, -37.921, -21.04, 8.705, -6.669, -5.81, 4.052, -5.697]} \n\n{'start': 226.2458, 'duration': 0.35741, 'confidence': 0.629, 'loudness_start': -13.301, 'loudness_max_time': 0.06435, 'loudness_max': -6.472, 'pitches': [0.101, 0.206, 0.039, 0.035, 0.065, 0.32, 0.768, 0.041, 0.04, 0.091, 1.0, 0.143], 'timbre': [48.63, 15.524, -17.328, -56.209, 9.007, -17.794, -39.841, 2.082, 17.133, 3.877, -15.652, -16.546]} \n\n{'start': 226.60322, 'duration': 0.34807, 'confidence': 0.284, 'loudness_start': -14.023, 'loudness_max_time': 0.10331, 'loudness_max': -9.593, 'pitches': [0.295, 0.5, 0.329, 0.195, 0.095, 0.289, 1.0, 0.265, 0.367, 0.367, 0.552, 0.486], 'timbre': [48.741, 26.786, -13.577, -46.269, -7.697, -30.798, -37.597, -19.699, -13.672, 26.781, -13.904, -9.489]} \n\n{'start': 226.95129, 'duration': 0.32531, 'confidence': 0.396, 'loudness_start': -12.009, 'loudness_max_time': 0.02744, 'loudness_max': -6.811, 'pitches': [0.324, 0.455, 0.176, 0.072, 0.132, 0.469, 1.0, 0.173, 0.359, 0.552, 0.617, 0.307], 'timbre': [49.794, 32.285, -31.287, -8.257, 14.842, -25.104, -26.353, -30.174, -6.151, -3.447, 6.316, -18.118]} \n\n{'start': 227.2766, 'duration': 0.19751, 'confidence': 0.376, 'loudness_start': -17.188, 'loudness_max_time': 0.11744, 'loudness_max': -11.04, 'pitches': [0.436, 0.239, 0.132, 0.131, 0.085, 0.098, 0.347, 0.346, 0.823, 0.176, 0.522, 1.0], 'timbre': [46.806, -51.307, -35.602, -52.167, 18.545, -19.171, -38.407, -24.83, -4.164, 30.305, -3.289, -17.758]} \n\n{'start': 227.4741, 'duration': 0.12844, 'confidence': 0.046, 'loudness_start': -15.096, 'loudness_max_time': 0.05773, 'loudness_max': -12.474, 'pitches': [0.223, 0.234, 0.2, 0.213, 0.631, 0.662, 1.0, 0.885, 0.658, 0.757, 0.475, 0.192], 'timbre': [46.678, -59.433, -3.765, -38.863, 50.3, -42.368, -13.245, -11.681, 2.554, 7.925, 0.044, 5.994]} \n\n{'start': 227.60254, 'duration': 0.23184, 'confidence': 0.721, 'loudness_start': -13.703, 'loudness_max_time': 0.04376, 'loudness_max': -5.238, 'pitches': [0.815, 0.258, 0.151, 0.186, 0.224, 0.232, 0.178, 0.124, 0.3, 0.243, 1.0, 0.926], 'timbre': [49.469, -31.977, 15.263, 7.818, 41.517, 1.449, -3.685, -15.474, -12.247, -48.639, -1.072, -11.399]} \n\n{'start': 227.83438, 'duration': 0.29528, 'confidence': 0.178, 'loudness_start': -13.295, 'loudness_max_time': 0.08918, 'loudness_max': -10.63, 'pitches': [0.418, 0.299, 0.176, 0.185, 0.124, 0.183, 0.255, 0.09, 0.328, 0.09, 1.0, 0.469], 'timbre': [48.26, -81.161, 39.608, -18.968, 58.409, -28.925, -22.677, 8.83, -21.945, -4.315, 0.324, -6.787]} \n\n{'start': 228.12966, 'duration': 0.16957, 'confidence': 0.234, 'loudness_start': -12.131, 'loudness_max_time': 0.00902, 'loudness_max': -8.827, 'pitches': [0.233, 0.065, 0.033, 0.04, 0.361, 0.375, 1.0, 0.945, 0.696, 0.682, 0.256, 0.232], 'timbre': [49.307, -54.68, 13.985, -2.659, 20.369, -47.326, 8.23, -12.82, -30.453, 6.626, -12.13, 0.771]} \n\n{'start': 228.29923, 'duration': 0.0746, 'confidence': 0.436, 'loudness_start': -13.051, 'loudness_max_time': 0.01458, 'loudness_max': -6.57, 'pitches': [0.707, 1.0, 0.875, 0.886, 0.844, 0.878, 0.826, 0.732, 0.744, 0.755, 0.508, 0.159], 'timbre': [49.193, 9.009, -9.323, 16.233, 17.881, -69.492, 3.255, -25.961, -12.596, 7.368, 4.961, 15.902]} \n\n{'start': 228.37383, 'duration': 0.34921, 'confidence': 0.304, 'loudness_start': -13.296, 'loudness_max_time': 0.09905, 'loudness_max': -8.012, 'pitches': [0.929, 0.634, 0.294, 0.364, 0.175, 0.21, 0.495, 0.222, 0.343, 0.999, 0.839, 1.0], 'timbre': [48.915, -69.162, 27.111, -17.506, 29.717, -33.23, -10.025, 17.531, -21.331, 4.461, -6.681, 1.504]} \n\n{'start': 228.72304, 'duration': 0.25061, 'confidence': 0.017, 'loudness_start': -14.266, 'loudness_max_time': 0.0888, 'loudness_max': -10.582, 'pitches': [0.279, 1.0, 0.447, 0.14, 0.073, 0.088, 0.134, 0.092, 0.793, 0.11, 0.155, 0.411], 'timbre': [47.057, -107.379, 4.036, -11.52, 39.812, -39.358, -26.887, 8.049, -9.273, 3.274, -9.119, 10.81]} \n\n{'start': 228.97365, 'duration': 0.15923, 'confidence': 0.672, 'loudness_start': -16.784, 'loudness_max_time': 0.00601, 'loudness_max': -6.46, 'pitches': [0.166, 1.0, 0.352, 0.118, 0.57, 0.578, 0.804, 0.761, 0.469, 0.261, 0.058, 0.012], 'timbre': [47.168, -29.967, -32.6, 35.725, 0.1, -87.494, -14.321, -59.87, -28.674, 23.556, -20.716, 15.7]} \n\n{'start': 229.13288, 'duration': 0.30159, 'confidence': 0.473, 'loudness_start': -17.841, 'loudness_max_time': 0.01449, 'loudness_max': -12.482, 'pitches': [0.197, 1.0, 0.17, 0.119, 0.059, 0.073, 0.14, 0.059, 0.595, 0.057, 0.061, 0.193], 'timbre': [46.273, -68.85, -9.918, -30.695, 32.68, -49.075, -5.63, -7.374, -17.747, -4.075, 1.191, 1.27]} \n\n{'start': 229.43447, 'duration': 0.17651, 'confidence': 0.284, 'loudness_start': -14.923, 'loudness_max_time': 0.04129, 'loudness_max': -10.328, 'pitches': [0.284, 0.467, 0.119, 0.07, 0.314, 0.315, 0.998, 1.0, 0.904, 0.818, 0.37, 0.017], 'timbre': [47.155, -61.248, -15.719, -21.498, 17.609, -30.633, -11.589, -11.607, 8.317, -7.607, -5.976, 12.35]} \n\n{'start': 229.61098, 'duration': 0.18984, 'confidence': 0.686, 'loudness_start': -15.485, 'loudness_max_time': 0.03093, 'loudness_max': -6.029, 'pitches': [0.235, 1.0, 0.263, 0.096, 0.102, 0.208, 0.493, 0.113, 0.706, 0.047, 0.036, 0.057], 'timbre': [47.768, -34.466, -50.965, 24.169, 38.422, 3.534, -24.805, -45.4, 10.831, -30.85, -3.261, -2.026]} \n\n{'start': 229.80082, 'duration': 0.37175, 'confidence': 0.267, 'loudness_start': -17.813, 'loudness_max_time': 0.00732, 'loudness_max': -11.971, 'pitches': [0.245, 1.0, 0.555, 0.856, 0.247, 0.155, 0.465, 0.25, 0.806, 0.071, 0.182, 0.07], 'timbre': [45.12, -88.62, -14.335, -18.896, 21.798, -59.514, -28.335, -33.637, -10.432, 11.333, -15.523, 6.644]} \n\n{'start': 230.17256, 'duration': 0.11732, 'confidence': 0.14, 'loudness_start': -16.806, 'loudness_max_time': 0.03181, 'loudness_max': -14.429, 'pitches': [0.117, 0.575, 0.134, 0.476, 0.244, 0.072, 0.286, 0.154, 1.0, 0.042, 0.094, 0.008], 'timbre': [44.085, -151.907, 4.502, -17.737, 36.144, -40.717, -33.34, -12.831, -1.933, -0.2, 2.985, 6.0]} \n\n{'start': 230.28989, 'duration': 0.3717, 'confidence': 0.561, 'loudness_start': -17.171, 'loudness_max_time': 0.03381, 'loudness_max': -10.793, 'pitches': [0.011, 0.066, 0.086, 1.0, 0.167, 0.028, 0.189, 0.034, 0.474, 0.021, 0.029, 0.011], 'timbre': [45.296, -91.002, -23.055, 13.564, 33.1, -32.591, -31.47, -45.047, -7.398, -9.852, 20.621, -11.287]} \n\n{'start': 230.66159, 'duration': 0.27283, 'confidence': 0.206, 'loudness_start': -18.654, 'loudness_max_time': 0.1466, 'loudness_max': -14.158, 'pitches': [0.063, 0.102, 0.214, 1.0, 0.45, 0.126, 0.327, 0.075, 0.725, 0.036, 0.044, 0.043], 'timbre': [43.621, -114.548, 2.951, -40.878, 47.364, -35.197, -44.234, 5.495, 3.745, -6.292, 1.98, -1.647]} \n\n{'start': 230.93442, 'duration': 0.19048, 'confidence': 0.109, 'loudness_start': -18.508, 'loudness_max_time': 0.0944, 'loudness_max': -15.895, 'pitches': [0.024, 0.115, 0.339, 1.0, 0.473, 0.067, 0.282, 0.062, 0.739, 0.02, 0.04, 0.023], 'timbre': [43.072, -119.786, 1.337, -41.641, 48.06, -31.646, -35.83, -14.199, -9.006, -4.471, -0.272, -6.774]} \n\n{'start': 231.1249, 'duration': 0.49297, 'confidence': 0.087, 'loudness_start': -17.978, 'loudness_max_time': 0.04585, 'loudness_max': -14.974, 'pitches': [0.052, 0.247, 0.211, 1.0, 0.403, 0.093, 0.239, 0.093, 0.526, 0.047, 0.068, 0.036], 'timbre': [43.719, -117.114, 3.135, -27.019, 31.644, -34.808, -45.493, -9.563, -6.921, 10.762, -0.819, -7.917]} \n\n{'start': 231.61787, 'duration': 0.40798, 'confidence': 0.392, 'loudness_start': -17.777, 'loudness_max_time': 0.0193, 'loudness_max': -12.634, 'pitches': [0.019, 0.116, 0.091, 1.0, 0.114, 0.023, 0.32, 0.026, 0.585, 0.025, 0.029, 0.005], 'timbre': [43.998, -105.4, 2.253, 1.534, 26.146, -48.134, -41.506, -38.435, -14.988, 14.632, 15.457, -9.638]} \n\n{'start': 232.02585, 'duration': 0.0985, 'confidence': 0.163, 'loudness_start': -17.597, 'loudness_max_time': 0.0402, 'loudness_max': -15.161, 'pitches': [0.071, 0.257, 0.048, 0.108, 0.069, 0.385, 0.904, 0.126, 1.0, 0.043, 0.027, 0.004], 'timbre': [43.6, -144.675, 38.316, -13.163, 41.974, -37.839, -52.927, -14.32, -16.122, -11.634, 9.883, 0.607]} \n\n{'start': 232.12435, 'duration': 0.16272, 'confidence': 0.027, 'loudness_start': -17.84, 'loudness_max_time': 0.00238, 'loudness_max': -12.297, 'pitches': [0.027, 0.324, 0.072, 1.0, 0.33, 0.051, 0.444, 0.098, 0.971, 0.044, 0.044, 0.007], 'timbre': [43.926, -117.177, 20.085, -15.379, 22.321, -65.498, -45.807, -29.66, -22.181, 8.256, -5.369, -6.621]} \n\n{'start': 232.28707, 'duration': 0.15746, 'confidence': 0.252, 'loudness_start': -18.326, 'loudness_max_time': 0.00753, 'loudness_max': -12.712, 'pitches': [0.02, 0.325, 0.046, 0.5, 0.202, 0.058, 0.855, 0.192, 1.0, 0.022, 0.037, 0.006], 'timbre': [43.565, -107.746, 23.456, -6.02, 35.197, -66.157, -50.613, -31.476, -29.481, 26.056, 6.649, 0.87]} \n\n{'start': 232.44454, 'duration': 0.16739, 'confidence': 0.344, 'loudness_start': -17.64, 'loudness_max_time': 0.0105, 'loudness_max': -13.626, 'pitches': [0.096, 0.636, 0.152, 1.0, 0.487, 0.108, 0.748, 0.33, 0.678, 0.067, 0.098, 0.019], 'timbre': [44.213, -121.104, 29.267, -5.159, 20.37, -51.049, -33.188, -38.998, -31.259, 15.691, -8.147, 9.307]} \n\n{'start': 232.61193, 'duration': 0.50998, 'confidence': 0.343, 'loudness_start': -18.237, 'loudness_max_time': 0.00206, 'loudness_max': -11.484, 'pitches': [0.063, 0.563, 0.055, 0.012, 0.009, 0.03, 1.0, 0.164, 0.704, 0.057, 0.037, 0.01], 'timbre': [44.641, -87.34, 28.1, 2.396, 25.229, -44.399, -59.264, -33.659, -20.851, 0.747, -17.173, 5.4]} \n\n{'start': 233.1219, 'duration': 0.16381, 'confidence': 0.331, 'loudness_start': -18.993, 'loudness_max_time': 0.08107, 'loudness_max': -15.083, 'pitches': [0.024, 0.251, 0.013, 0.006, 0.003, 0.168, 1.0, 0.021, 0.037, 0.009, 0.021, 0.002], 'timbre': [42.52, -116.68, 89.137, -21.438, 37.755, -24.214, -18.09, 9.741, -33.356, -9.435, 13.598, 34.648]} \n\n{'start': 233.28571, 'duration': 0.23179, 'confidence': 0.202, 'loudness_start': -17.466, 'loudness_max_time': 0.1061, 'loudness_max': -12.706, 'pitches': [0.008, 0.064, 0.008, 0.004, 0.004, 0.206, 1.0, 0.017, 0.014, 0.005, 0.015, 0.002], 'timbre': [44.521, -74.175, 87.871, 0.477, 26.517, -14.323, -28.449, -8.996, -35.56, -5.609, 2.218, 18.158]} \n\n{'start': 233.51751, 'duration': 0.12141, 'confidence': 0.11, 'loudness_start': -18.573, 'loudness_max_time': 0.05438, 'loudness_max': -14.923, 'pitches': [0.004, 0.057, 0.006, 0.002, 0.003, 0.117, 1.0, 0.076, 0.016, 0.004, 0.012, 0.002], 'timbre': [43.767, -86.255, 57.957, -4.028, 21.707, -29.378, -51.949, -27.583, -41.89, 12.075, -6.172, 14.829]} \n\n{'start': 233.63891, 'duration': 0.16336, 'confidence': 0.062, 'loudness_start': -17.155, 'loudness_max_time': 0.06247, 'loudness_max': -14.963, 'pitches': [0.003, 0.063, 0.01, 0.002, 0.003, 0.029, 1.0, 0.118, 0.012, 0.002, 0.014, 0.002], 'timbre': [44.018, -104.321, 56.366, -1.925, 25.307, -27.865, -48.827, -0.939, -30.969, -9.799, 6.858, 17.897]} \n\n{'start': 233.80227, 'duration': 0.95184, 'confidence': 0.071, 'loudness_start': -17.875, 'loudness_max_time': 0.0642, 'loudness_max': -15.433, 'loudness_end': -60.0, 'pitches': [0.046, 0.086, 0.062, 0.047, 0.061, 0.197, 1.0, 0.584, 0.07, 0.131, 0.129, 0.105], 'timbre': [31.256, -53.688, -67.315, 265.047, 26.348, -30.622, -94.503, 117.244, -10.382, -33.583, -86.815, 8.128]} \n\n"
    }
   ],
   "source": [
    "for i in range(len(audio_analysis['segments'])):\n",
    "    print(audio_analysis['segments'][i], '\\n')"
   ]
  },
  {
   "cell_type": "code",
   "execution_count": 72,
   "metadata": {},
   "outputs": [
    {
     "data": {
      "text/plain": "{'genres': ['acoustic',\n  'afrobeat',\n  'alt-rock',\n  'alternative',\n  'ambient',\n  'anime',\n  'black-metal',\n  'bluegrass',\n  'blues',\n  'bossanova',\n  'brazil',\n  'breakbeat',\n  'british',\n  'cantopop',\n  'chicago-house',\n  'children',\n  'chill',\n  'classical',\n  'club',\n  'comedy',\n  'country',\n  'dance',\n  'dancehall',\n  'death-metal',\n  'deep-house',\n  'detroit-techno',\n  'disco',\n  'disney',\n  'drum-and-bass',\n  'dub',\n  'dubstep',\n  'edm',\n  'electro',\n  'electronic',\n  'emo',\n  'folk',\n  'forro',\n  'french',\n  'funk',\n  'garage',\n  'german',\n  'gospel',\n  'goth',\n  'grindcore',\n  'groove',\n  'grunge',\n  'guitar',\n  'happy',\n  'hard-rock',\n  'hardcore',\n  'hardstyle',\n  'heavy-metal',\n  'hip-hop',\n  'holidays',\n  'honky-tonk',\n  'house',\n  'idm',\n  'indian',\n  'indie',\n  'indie-pop',\n  'industrial',\n  'iranian',\n  'j-dance',\n  'j-idol',\n  'j-pop',\n  'j-rock',\n  'jazz',\n  'k-pop',\n  'kids',\n  'latin',\n  'latino',\n  'malay',\n  'mandopop',\n  'metal',\n  'metal-misc',\n  'metalcore',\n  'minimal-techno',\n  'movies',\n  'mpb',\n  'new-age',\n  'new-release',\n  'opera',\n  'pagode',\n  'party',\n  'philippines-opm',\n  'piano',\n  'pop',\n  'pop-film',\n  'post-dubstep',\n  'power-pop',\n  'progressive-house',\n  'psych-rock',\n  'punk',\n  'punk-rock',\n  'r-n-b',\n  'rainy-day',\n  'reggae',\n  'reggaeton',\n  'road-trip',\n  'rock',\n  'rock-n-roll',\n  'rockabilly',\n  'romance',\n  'sad',\n  'salsa',\n  'samba',\n  'sertanejo',\n  'show-tunes',\n  'singer-songwriter',\n  'ska',\n  'sleep',\n  'songwriter',\n  'soul',\n  'soundtracks',\n  'spanish',\n  'study',\n  'summer',\n  'swedish',\n  'synth-pop',\n  'tango',\n  'techno',\n  'trance',\n  'trip-hop',\n  'turkish',\n  'work-out',\n  'world-music']}"
     },
     "execution_count": 72,
     "metadata": {},
     "output_type": "execute_result"
    }
   ],
   "source": [
    "spotify.recommendation_genre_seeds()"
   ]
  },
  {
   "cell_type": "code",
   "execution_count": 33,
   "metadata": {},
   "outputs": [
    {
     "data": {
      "text/plain": "['__class__',\n '__delattr__',\n '__dict__',\n '__dir__',\n '__doc__',\n '__eq__',\n '__format__',\n '__ge__',\n '__getattribute__',\n '__gt__',\n '__hash__',\n '__init__',\n '__init_subclass__',\n '__le__',\n '__lt__',\n '__module__',\n '__ne__',\n '__new__',\n '__reduce__',\n '__reduce_ex__',\n '__repr__',\n '__setattr__',\n '__sizeof__',\n '__str__',\n '__subclasshook__',\n '__weakref__',\n '_append_device_id',\n '_auth',\n '_auth_headers',\n '_auth_manager',\n '_delete',\n '_get',\n '_get_id',\n '_get_uri',\n '_internal_call',\n '_post',\n '_put',\n '_session',\n '_warn',\n '_warn_old',\n 'album',\n 'album_tracks',\n 'albums',\n 'artist',\n 'artist_albums',\n 'artist_related_artists',\n 'artist_top_tracks',\n 'artists',\n 'audio_analysis',\n 'audio_features',\n 'auth_manager',\n 'categories',\n 'category_playlists',\n 'client_credentials_manager',\n 'current_playback',\n 'current_user',\n 'current_user_followed_artists',\n 'current_user_playing_track',\n 'current_user_playlists',\n 'current_user_recently_played',\n 'current_user_saved_albums',\n 'current_user_saved_albums_add',\n 'current_user_saved_albums_contains',\n 'current_user_saved_albums_delete',\n 'current_user_saved_tracks',\n 'current_user_saved_tracks_add',\n 'current_user_saved_tracks_contains',\n 'current_user_saved_tracks_delete',\n 'current_user_top_artists',\n 'current_user_top_tracks',\n 'currently_playing',\n 'devices',\n 'featured_playlists',\n 'max_get_retries',\n 'me',\n 'new_releases',\n 'next',\n 'next_track',\n 'oauth_manager',\n 'pause_playback',\n 'playlist',\n 'playlist_cover_image',\n 'playlist_tracks',\n 'playlist_upload_cover_image',\n 'prefix',\n 'previous',\n 'previous_track',\n 'proxies',\n 'recommendation_genre_seeds',\n 'recommendations',\n 'repeat',\n 'requests_timeout',\n 'search',\n 'seek_track',\n 'shuffle',\n 'start_playback',\n 'trace',\n 'trace_out',\n 'track',\n 'tracks',\n 'transfer_playback',\n 'user',\n 'user_follow_artists',\n 'user_follow_users',\n 'user_playlist',\n 'user_playlist_add_tracks',\n 'user_playlist_change_details',\n 'user_playlist_create',\n 'user_playlist_follow_playlist',\n 'user_playlist_is_following',\n 'user_playlist_remove_all_occurrences_of_tracks',\n 'user_playlist_remove_specific_occurrences_of_tracks',\n 'user_playlist_reorder_tracks',\n 'user_playlist_replace_tracks',\n 'user_playlist_tracks',\n 'user_playlist_unfollow',\n 'user_playlists',\n 'user_unfollow_artists',\n 'user_unfollow_users',\n 'volume']"
     },
     "execution_count": 33,
     "metadata": {},
     "output_type": "execute_result"
    }
   ],
   "source": [
    "dir(spotify)"
   ]
  },
  {
   "cell_type": "markdown",
   "metadata": {},
   "source": [
    "# Simple functions for analyzing audio_analysis pieces"
   ]
  },
  {
   "cell_type": "code",
   "execution_count": 7,
   "metadata": {},
   "outputs": [
    {
     "data": {
      "text/plain": "234.754"
     },
     "execution_count": 7,
     "metadata": {},
     "output_type": "execute_result"
    }
   ],
   "source": [
    "time_val = audio_features['duration_ms']/1000\n",
    "time_val"
   ]
  },
  {
   "cell_type": "code",
   "execution_count": 8,
   "metadata": {},
   "outputs": [
    {
     "data": {
      "text/plain": "'00:03:54'"
     },
     "execution_count": 8,
     "metadata": {},
     "output_type": "execute_result"
    }
   ],
   "source": [
    "def time(time_val=audio_features['duration_ms']/1000):\n",
    "    \"\"\" Converts float to time format \"\"\"\n",
    "    seconds = time_val\n",
    "    minutes, seconds = divmod(seconds, 60)\n",
    "    hours, minutes = divmod(minutes, 60)\n",
    "\n",
    "    return \"%02d:%02d:%02d\"%(hours,minutes,seconds)\n",
    "    \n",
    "time()"
   ]
  },
  {
   "cell_type": "code",
   "execution_count": 9,
   "metadata": {},
   "outputs": [
    {
     "data": {
      "text/plain": "[{'start': 0.0,\n  'duration': 92.9788,\n  'confidence': 1.0,\n  'loudness': -11.15,\n  'tempo': 89.994,\n  'tempo_confidence': 0.472,\n  'key': 6,\n  'key_confidence': 0.646,\n  'mode': 1,\n  'mode_confidence': 0.541,\n  'time_signature': 4,\n  'time_signature_confidence': 1.0},\n {'start': 92.9788,\n  'duration': 9.99774,\n  'confidence': 0.715,\n  'loudness': -14.927,\n  'tempo': 89.96,\n  'tempo_confidence': 0.424,\n  'key': 1,\n  'key_confidence': 0.0,\n  'mode': 1,\n  'mode_confidence': 0.0,\n  'time_signature': 4,\n  'time_signature_confidence': 1.0},\n {'start': 102.97654,\n  'duration': 21.35648,\n  'confidence': 0.721,\n  'loudness': -9.374,\n  'tempo': 90.004,\n  'tempo_confidence': 0.629,\n  'key': 4,\n  'key_confidence': 0.049,\n  'mode': 1,\n  'mode_confidence': 0.361,\n  'time_signature': 4,\n  'time_signature_confidence': 1.0},\n {'start': 124.33302,\n  'duration': 26.65093,\n  'confidence': 0.041,\n  'loudness': -8.209,\n  'tempo': 90.021,\n  'tempo_confidence': 0.302,\n  'key': 6,\n  'key_confidence': 0.0,\n  'mode': 1,\n  'mode_confidence': 0.0,\n  'time_signature': 4,\n  'time_signature_confidence': 1.0},\n {'start': 150.98395,\n  'duration': 13.99343,\n  'confidence': 0.425,\n  'loudness': -13.689,\n  'tempo': 90.067,\n  'tempo_confidence': 0.513,\n  'key': 6,\n  'key_confidence': 0.0,\n  'mode': 1,\n  'mode_confidence': 0.0,\n  'time_signature': 4,\n  'time_signature_confidence': 1.0},\n {'start': 164.97738,\n  'duration': 9.33734,\n  'confidence': 0.318,\n  'loudness': -9.824,\n  'tempo': 89.944,\n  'tempo_confidence': 0.531,\n  'key': 1,\n  'key_confidence': 0.095,\n  'mode': 1,\n  'mode_confidence': 0.272,\n  'time_signature': 4,\n  'time_signature_confidence': 1.0},\n {'start': 174.31472,\n  'duration': 11.33516,\n  'confidence': 0.263,\n  'loudness': -9.379,\n  'tempo': 89.966,\n  'tempo_confidence': 0.505,\n  'key': 6,\n  'key_confidence': 0.0,\n  'mode': 1,\n  'mode_confidence': 0.0,\n  'time_signature': 4,\n  'time_signature_confidence': 0.867},\n {'start': 185.64988,\n  'duration': 26.00242,\n  'confidence': 0.182,\n  'loudness': -9.73,\n  'tempo': 90.015,\n  'tempo_confidence': 0.409,\n  'key': 6,\n  'key_confidence': 0.555,\n  'mode': 1,\n  'mode_confidence': 0.659,\n  'time_signature': 4,\n  'time_signature_confidence': 0.781},\n {'start': 211.6523,\n  'duration': 23.1018,\n  'confidence': 0.59,\n  'loudness': -8.874,\n  'tempo': 90.006,\n  'tempo_confidence': 0.356,\n  'key': 1,\n  'key_confidence': 0.445,\n  'mode': 0,\n  'mode_confidence': 0.324,\n  'time_signature': 3,\n  'time_signature_confidence': 1.0}]"
     },
     "execution_count": 9,
     "metadata": {},
     "output_type": "execute_result"
    }
   ],
   "source": [
    "audio_analysis['sections']"
   ]
  },
  {
   "cell_type": "code",
   "execution_count": 10,
   "metadata": {},
   "outputs": [
    {
     "name": "stdout",
     "output_type": "stream",
     "text": "[6, 1, 4, 6, 6, 1, 6, 6, 1]\n"
    },
    {
     "data": {
      "text/plain": "'F#/Gb'"
     },
     "execution_count": 10,
     "metadata": {},
     "output_type": "execute_result"
    }
   ],
   "source": [
    "def key(key_val=audio_analysis['sections']):\n",
    "    \"\"\"Finds the key of the song (via the mode (stat) of the song)\"\"\"\n",
    "    key_dict = {0:'C', 1:'C#/Db', 2:'D', 3:'D#/Eb', 4:'E', 5:'F', 6:'F#/Gb', 7:'G', 8:'G#/Ab', 9:'A', 10:'A#/Bb', 11:'B'}\n",
    "    key_list = []\n",
    "    key_conf = []\n",
    "\n",
    "    for i in range(len(key_val)):\n",
    "        key = key_val[i]['key']\n",
    "        key_list.append(key)\n",
    "\n",
    "    # Confidence is something to consider here, commented out for now\n",
    "    # for i in range(len(key_val)):\n",
    "    #     key = key_val[i]['key_confidence']\n",
    "    #     key_conf.append(key)\n",
    "\n",
    "    print(key_list)\n",
    "    # print(key_conf)\n",
    "    # conf_tuple = [(key_list[i], key_conf[i]) for i in range(len(key_list))]\n",
    "    # print(zipper)\n",
    "\n",
    "    key_mode = max(set(key_list), key=key_list.count)\n",
    "    return key_dict[key_mode]\n",
    "\n",
    "key()"
   ]
  },
  {
   "cell_type": "code",
   "execution_count": 11,
   "metadata": {},
   "outputs": [
    {
     "data": {
      "text/plain": "'major'"
     },
     "execution_count": 11,
     "metadata": {},
     "output_type": "execute_result"
    }
   ],
   "source": [
    "def song_mode(mode_val=audio_analysis['sections']):\n",
    "    \"\"\"Finds the mode (stat) of the mode (musical) for the song\"\"\"\n",
    "    mode_dict = {-1:'no result', 0:'minor', 1:'major'}\n",
    "    mode_list = []\n",
    "    mode_conf_list = []\n",
    "\n",
    "    for i in range(len(mode_val)):\n",
    "        mode = mode_val[i]['mode']\n",
    "        mode_list.append(mode)\n",
    "\n",
    "    # Considering how to incorporate mode confidence\n",
    "    # for i in range(len(mode_val)):\n",
    "    #     mode_conf = mode_val[i]['mode_confidence']\n",
    "    #     mode_conf_list.append(mode_conf)\n",
    "    \n",
    "    mode_mode = int(round(sum(mode_list) / len(mode_val)))\n",
    "    return mode_dict[mode_mode]\n",
    "\n",
    "song_mode()"
   ]
  },
  {
   "cell_type": "code",
   "execution_count": 12,
   "metadata": {},
   "outputs": [
    {
     "name": "stdout",
     "output_type": "stream",
     "text": "Length of list: 12\n[44.052549945115224, -45.3329945115258, -5.255630076838654, -3.6853128430296325, 11.137234906695936, -31.11552469813389, 6.426919868276627, -6.174439077936334, -7.389241492864978, 0.3975762897914384, -8.70452030735455, -2.77409659714599]\n"
    },
    {
     "data": {
      "text/plain": "-48.4174785949506"
     },
     "execution_count": 12,
     "metadata": {},
     "output_type": "execute_result"
    }
   ],
   "source": [
    "def avg_timbre(timbre_val=audio_analysis['segments']):\n",
    "    \"\"\"finds average timbre for a song\"\"\"\n",
    "    vals_list = []\n",
    "    for i in range(len(timbre_val)):\n",
    "        val = timbre_val[i]['timbre']\n",
    "        vals_list.append(val)\n",
    "        # print(len(val), val) # Debugging line\n",
    "\n",
    "    # Averaging values\n",
    "    averages_list = [sum(item) / len(item) for item in zip(*vals_list)]\n",
    "    print(f'Length of list: {len(averages_list)}')\n",
    "    print(averages_list)\n",
    "    return sum(averages_list)\n",
    "\n",
    "avg_timbre()"
   ]
  },
  {
   "cell_type": "code",
   "execution_count": 13,
   "metadata": {},
   "outputs": [
    {
     "data": {
      "text/plain": "'4/4'"
     },
     "execution_count": 13,
     "metadata": {},
     "output_type": "execute_result"
    }
   ],
   "source": [
    "def time_signature(time_sig_val=audio_analysis['sections']):\n",
    "    \"\"\" Finds the time signature of the song via mode(stat)\"\"\"\n",
    "    time_sig_dict = {3:'3/4', 4:'4/4', 5:'5/4', 6:'6/4', 7:'7/4'}\n",
    "    time_sig_list = []\n",
    "\n",
    "    for i in range(len(time_sig_val)):\n",
    "        time_sig = time_sig_val[i]['time_signature']\n",
    "        time_sig_list.append(time_sig)\n",
    "\n",
    "    # print(time_sig_list) # Debugging line\n",
    "    time_sig_mode = int(round(sum(time_sig_list) / len(time_sig_val)))\n",
    "    return time_sig_dict[time_sig_mode]\n",
    "\n",
    "time_signature()"
   ]
  },
  {
   "cell_type": "code",
   "execution_count": 14,
   "metadata": {},
   "outputs": [
    {
     "data": {
      "text/plain": "(0.16, 'negative')"
     },
     "execution_count": 14,
     "metadata": {},
     "output_type": "execute_result"
    }
   ],
   "source": [
    "def valence(valence_val=audio_features['valence']):\n",
    "    \"\"\" Gets the valence value for a song \"\"\"\n",
    "    if valence_val <= 0.2:\n",
    "        return valence_val, 'negative'\n",
    "    elif valence_val <= 0.4:\n",
    "        return valence_val, 'somewhat negative'\n",
    "    elif valence_val <= 0.6:\n",
    "        return valence_val, 'neutral'\n",
    "    else:\n",
    "        return valence_val, 'positive'\n",
    "\n",
    "valence()"
   ]
  },
  {
   "cell_type": "code",
   "execution_count": 15,
   "metadata": {},
   "outputs": [
    {
     "data": {
      "text/plain": "(0.112, 'has vocals')"
     },
     "execution_count": 15,
     "metadata": {},
     "output_type": "execute_result"
    }
   ],
   "source": [
    "def instrumental(instr_val=audio_features['instrumentalness']):\n",
    "    if instr_val > 0.75:\n",
    "        return instr_val, 'instrumental'\n",
    "    elif instr_val > 0.5 and instr_val <=0.75:\n",
    "        return instr_val, 'likely instrumental'\n",
    "    else:\n",
    "        return instr_val, 'has vocals'\n",
    "\n",
    "instrumental()"
   ]
  },
  {
   "cell_type": "code",
   "execution_count": 16,
   "metadata": {},
   "outputs": [
    {
     "data": {
      "text/plain": "(0.389, 'likely not acoustic')"
     },
     "execution_count": 16,
     "metadata": {},
     "output_type": "execute_result"
    }
   ],
   "source": [
    "def acoustic(instr_val=audio_features['acousticness']):\n",
    "    if instr_val > 0.75:\n",
    "        return instr_val, 'acoustic'\n",
    "    elif instr_val > 0.5 and instr_val <=0.75:\n",
    "        return instr_val, 'likely acoustic'\n",
    "    else:\n",
    "        return instr_val, 'likely not acoustic'\n",
    "\n",
    "acoustic()"
   ]
  },
  {
   "cell_type": "markdown",
   "metadata": {},
   "source": [
    "# Output data to JSON file"
   ]
  },
  {
   "cell_type": "code",
   "execution_count": 17,
   "metadata": {},
   "outputs": [],
   "source": [
    "import json\n",
    "\n",
    "with open('data.txt', 'w') as outfile:\n",
    "    json.dump(results, outfile)"
   ]
  },
  {
   "cell_type": "code",
   "execution_count": null,
   "metadata": {},
   "outputs": [],
   "source": []
  },
  {
   "cell_type": "code",
   "execution_count": null,
   "metadata": {},
   "outputs": [],
   "source": []
  },
  {
   "cell_type": "code",
   "execution_count": 1,
   "metadata": {},
   "outputs": [],
   "source": [
    "import pandas as pd\n",
    ""
   ]
  },
  {
   "cell_type": "code",
   "execution_count": 2,
   "metadata": {},
   "outputs": [
    {
     "ename": "ParserError",
     "evalue": "Error tokenizing data. C error: Expected 4 fields in line 14735, saw 5\n",
     "output_type": "error",
     "traceback": [
      "\u001b[1;31m---------------------------------------------------------------------------\u001b[0m",
      "\u001b[1;31mParserError\u001b[0m                               Traceback (most recent call last)",
      "\u001b[1;32m<ipython-input-2-b0f6514415e8>\u001b[0m in \u001b[0;36m<module>\u001b[1;34m\u001b[0m\n\u001b[1;32m----> 1\u001b[1;33m \u001b[0mdf\u001b[0m \u001b[1;33m=\u001b[0m \u001b[0mpd\u001b[0m\u001b[1;33m.\u001b[0m\u001b[0mread_csv\u001b[0m\u001b[1;33m(\u001b[0m\u001b[1;34m'spotify_dataset.csv'\u001b[0m\u001b[1;33m)\u001b[0m\u001b[1;33m\u001b[0m\u001b[1;33m\u001b[0m\u001b[0m\n\u001b[0m\u001b[0;32m      2\u001b[0m \u001b[0mdf\u001b[0m\u001b[1;33m.\u001b[0m\u001b[0mhead\u001b[0m\u001b[1;33m(\u001b[0m\u001b[1;33m)\u001b[0m\u001b[1;33m\u001b[0m\u001b[1;33m\u001b[0m\u001b[0m\n",
      "\u001b[1;32m~\\.virtualenvs\\data-science-D_g8A8uX\\lib\\site-packages\\pandas\\io\\parsers.py\u001b[0m in \u001b[0;36mparser_f\u001b[1;34m(filepath_or_buffer, sep, delimiter, header, names, index_col, usecols, squeeze, prefix, mangle_dupe_cols, dtype, engine, converters, true_values, false_values, skipinitialspace, skiprows, skipfooter, nrows, na_values, keep_default_na, na_filter, verbose, skip_blank_lines, parse_dates, infer_datetime_format, keep_date_col, date_parser, dayfirst, cache_dates, iterator, chunksize, compression, thousands, decimal, lineterminator, quotechar, quoting, doublequote, escapechar, comment, encoding, dialect, error_bad_lines, warn_bad_lines, delim_whitespace, low_memory, memory_map, float_precision)\u001b[0m\n\u001b[0;32m    674\u001b[0m         )\n\u001b[0;32m    675\u001b[0m \u001b[1;33m\u001b[0m\u001b[0m\n\u001b[1;32m--> 676\u001b[1;33m         \u001b[1;32mreturn\u001b[0m \u001b[0m_read\u001b[0m\u001b[1;33m(\u001b[0m\u001b[0mfilepath_or_buffer\u001b[0m\u001b[1;33m,\u001b[0m \u001b[0mkwds\u001b[0m\u001b[1;33m)\u001b[0m\u001b[1;33m\u001b[0m\u001b[1;33m\u001b[0m\u001b[0m\n\u001b[0m\u001b[0;32m    677\u001b[0m \u001b[1;33m\u001b[0m\u001b[0m\n\u001b[0;32m    678\u001b[0m     \u001b[0mparser_f\u001b[0m\u001b[1;33m.\u001b[0m\u001b[0m__name__\u001b[0m \u001b[1;33m=\u001b[0m \u001b[0mname\u001b[0m\u001b[1;33m\u001b[0m\u001b[1;33m\u001b[0m\u001b[0m\n",
      "\u001b[1;32m~\\.virtualenvs\\data-science-D_g8A8uX\\lib\\site-packages\\pandas\\io\\parsers.py\u001b[0m in \u001b[0;36m_read\u001b[1;34m(filepath_or_buffer, kwds)\u001b[0m\n\u001b[0;32m    452\u001b[0m \u001b[1;33m\u001b[0m\u001b[0m\n\u001b[0;32m    453\u001b[0m     \u001b[1;32mtry\u001b[0m\u001b[1;33m:\u001b[0m\u001b[1;33m\u001b[0m\u001b[1;33m\u001b[0m\u001b[0m\n\u001b[1;32m--> 454\u001b[1;33m         \u001b[0mdata\u001b[0m \u001b[1;33m=\u001b[0m \u001b[0mparser\u001b[0m\u001b[1;33m.\u001b[0m\u001b[0mread\u001b[0m\u001b[1;33m(\u001b[0m\u001b[0mnrows\u001b[0m\u001b[1;33m)\u001b[0m\u001b[1;33m\u001b[0m\u001b[1;33m\u001b[0m\u001b[0m\n\u001b[0m\u001b[0;32m    455\u001b[0m     \u001b[1;32mfinally\u001b[0m\u001b[1;33m:\u001b[0m\u001b[1;33m\u001b[0m\u001b[1;33m\u001b[0m\u001b[0m\n\u001b[0;32m    456\u001b[0m         \u001b[0mparser\u001b[0m\u001b[1;33m.\u001b[0m\u001b[0mclose\u001b[0m\u001b[1;33m(\u001b[0m\u001b[1;33m)\u001b[0m\u001b[1;33m\u001b[0m\u001b[1;33m\u001b[0m\u001b[0m\n",
      "\u001b[1;32m~\\.virtualenvs\\data-science-D_g8A8uX\\lib\\site-packages\\pandas\\io\\parsers.py\u001b[0m in \u001b[0;36mread\u001b[1;34m(self, nrows)\u001b[0m\n\u001b[0;32m   1131\u001b[0m     \u001b[1;32mdef\u001b[0m \u001b[0mread\u001b[0m\u001b[1;33m(\u001b[0m\u001b[0mself\u001b[0m\u001b[1;33m,\u001b[0m \u001b[0mnrows\u001b[0m\u001b[1;33m=\u001b[0m\u001b[1;32mNone\u001b[0m\u001b[1;33m)\u001b[0m\u001b[1;33m:\u001b[0m\u001b[1;33m\u001b[0m\u001b[1;33m\u001b[0m\u001b[0m\n\u001b[0;32m   1132\u001b[0m         \u001b[0mnrows\u001b[0m \u001b[1;33m=\u001b[0m \u001b[0m_validate_integer\u001b[0m\u001b[1;33m(\u001b[0m\u001b[1;34m\"nrows\"\u001b[0m\u001b[1;33m,\u001b[0m \u001b[0mnrows\u001b[0m\u001b[1;33m)\u001b[0m\u001b[1;33m\u001b[0m\u001b[1;33m\u001b[0m\u001b[0m\n\u001b[1;32m-> 1133\u001b[1;33m         \u001b[0mret\u001b[0m \u001b[1;33m=\u001b[0m \u001b[0mself\u001b[0m\u001b[1;33m.\u001b[0m\u001b[0m_engine\u001b[0m\u001b[1;33m.\u001b[0m\u001b[0mread\u001b[0m\u001b[1;33m(\u001b[0m\u001b[0mnrows\u001b[0m\u001b[1;33m)\u001b[0m\u001b[1;33m\u001b[0m\u001b[1;33m\u001b[0m\u001b[0m\n\u001b[0m\u001b[0;32m   1134\u001b[0m \u001b[1;33m\u001b[0m\u001b[0m\n\u001b[0;32m   1135\u001b[0m         \u001b[1;31m# May alter columns / col_dict\u001b[0m\u001b[1;33m\u001b[0m\u001b[1;33m\u001b[0m\u001b[1;33m\u001b[0m\u001b[0m\n",
      "\u001b[1;32m~\\.virtualenvs\\data-science-D_g8A8uX\\lib\\site-packages\\pandas\\io\\parsers.py\u001b[0m in \u001b[0;36mread\u001b[1;34m(self, nrows)\u001b[0m\n\u001b[0;32m   2035\u001b[0m     \u001b[1;32mdef\u001b[0m \u001b[0mread\u001b[0m\u001b[1;33m(\u001b[0m\u001b[0mself\u001b[0m\u001b[1;33m,\u001b[0m \u001b[0mnrows\u001b[0m\u001b[1;33m=\u001b[0m\u001b[1;32mNone\u001b[0m\u001b[1;33m)\u001b[0m\u001b[1;33m:\u001b[0m\u001b[1;33m\u001b[0m\u001b[1;33m\u001b[0m\u001b[0m\n\u001b[0;32m   2036\u001b[0m         \u001b[1;32mtry\u001b[0m\u001b[1;33m:\u001b[0m\u001b[1;33m\u001b[0m\u001b[1;33m\u001b[0m\u001b[0m\n\u001b[1;32m-> 2037\u001b[1;33m             \u001b[0mdata\u001b[0m \u001b[1;33m=\u001b[0m \u001b[0mself\u001b[0m\u001b[1;33m.\u001b[0m\u001b[0m_reader\u001b[0m\u001b[1;33m.\u001b[0m\u001b[0mread\u001b[0m\u001b[1;33m(\u001b[0m\u001b[0mnrows\u001b[0m\u001b[1;33m)\u001b[0m\u001b[1;33m\u001b[0m\u001b[1;33m\u001b[0m\u001b[0m\n\u001b[0m\u001b[0;32m   2038\u001b[0m         \u001b[1;32mexcept\u001b[0m \u001b[0mStopIteration\u001b[0m\u001b[1;33m:\u001b[0m\u001b[1;33m\u001b[0m\u001b[1;33m\u001b[0m\u001b[0m\n\u001b[0;32m   2039\u001b[0m             \u001b[1;32mif\u001b[0m \u001b[0mself\u001b[0m\u001b[1;33m.\u001b[0m\u001b[0m_first_chunk\u001b[0m\u001b[1;33m:\u001b[0m\u001b[1;33m\u001b[0m\u001b[1;33m\u001b[0m\u001b[0m\n",
      "\u001b[1;32mpandas\\_libs\\parsers.pyx\u001b[0m in \u001b[0;36mpandas._libs.parsers.TextReader.read\u001b[1;34m()\u001b[0m\n",
      "\u001b[1;32mpandas\\_libs\\parsers.pyx\u001b[0m in \u001b[0;36mpandas._libs.parsers.TextReader._read_low_memory\u001b[1;34m()\u001b[0m\n",
      "\u001b[1;32mpandas\\_libs\\parsers.pyx\u001b[0m in \u001b[0;36mpandas._libs.parsers.TextReader._read_rows\u001b[1;34m()\u001b[0m\n",
      "\u001b[1;32mpandas\\_libs\\parsers.pyx\u001b[0m in \u001b[0;36mpandas._libs.parsers.TextReader._tokenize_rows\u001b[1;34m()\u001b[0m\n",
      "\u001b[1;32mpandas\\_libs\\parsers.pyx\u001b[0m in \u001b[0;36mpandas._libs.parsers.raise_parser_error\u001b[1;34m()\u001b[0m\n",
      "\u001b[1;31mParserError\u001b[0m: Error tokenizing data. C error: Expected 4 fields in line 14735, saw 5\n"
     ]
    }
   ],
   "source": [
    "df = pd.read_csv('spotify_dataset.csv')\n",
    "df.head()"
   ]
  }
 ],
 "metadata": {
  "colab": {
   "collapsed_sections": [],
   "name": "Sean_Hobin_Spotify_API_Starter.ipynb",
   "provenance": []
  },
  "kernelspec": {
   "display_name": "Python (DL/NLP)",
   "language": "python",
   "name": "python_dl_nlp"
  },
  "language_info": {
   "codemirror_mode": {
    "name": "ipython",
    "version": 3
   },
   "file_extension": ".py",
   "mimetype": "text/x-python",
   "name": "python",
   "nbconvert_exporter": "python",
   "pygments_lexer": "ipython3",
   "version": "3.7.4-final"
  }
 },
 "nbformat": 4,
 "nbformat_minor": 1
}