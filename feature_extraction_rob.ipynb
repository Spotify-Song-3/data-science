{
 "cells": [
  {
   "cell_type": "code",
   "execution_count": 1,
   "metadata": {},
   "outputs": [
    {
     "name": "stdout",
     "output_type": "stream",
     "text": "track                  : Thriller\nartist(s)              : Michael Jackson\ntrack id               : 7azo4rpSUh8nXgtonC6Pkq\nsong spotify link      : https://open.spotify.com/track/7azo4rpSUh8nXgtonC6Pkq\nartist id              : 3fMbdgg4jU18AjLCKBhRSm\nrelease date           : 2017-09-27\nrelease date precision : day\nduration (ms)          : 358053\npopularity             : 67\nexplicit (true/false)  : False\naudio preview          : https://p.scdn.co/mp3-preview/9f288fba4d3380b1ae25e7f88a2054d7fac0bf2d?cid=09cdac09aca04b7093270e33247e1aea\ncover art 300x300 JFIF : https://i.scdn.co/image/ab67616d00001e02cde37cfdee48dc0eae1e2ab8\ndanceability           : 0.764\nenergy                 : 0.887\nkey                    : 11\nloudness               : -3.725\nmode                   : 1\nspeechiness            : 0.0738\nacousticness           : 0.0816\ninstrumentalness       : 0.000108\nliveness               : 0.847\nvalence                : 0.721\ntempo                  : 118.421\ntime signature         : 4\nnum artist followers   : 13853311\nartist genres          : ['pop', 'r&b', 'soul']\nartist popularity      : 86\nartist spotify avatar  : https://i.scdn.co/image/2e6f35b90c131c137669d06e3c36b1a5d3172864\nartist spotify link    : https://open.spotify.com/artist/3fMbdgg4jU18AjLCKBhRSm\nSearching for \"Thriller\" by Michael Jackson...\nDone.\nLyrics found. All features retrieved in 10.02 seconds\n\n"
    }
   ],
   "source": [
    "import requests\n",
    "import spotipy\n",
    "from spotipy.oauth2 import SpotifyClientCredentials\n",
    "import lyricsgenius as genius\n",
    "import json\n",
    "import time\n",
    "\n",
    "# #################################################\n",
    "#   Spotify API user credentials, generate token\n",
    "CLIENT_ID = \"09cdac09aca04b7093270e33247e1aea\"\n",
    "CLIENT_SECRET = \"243a42f4fb044d34b048a19ea97d5702\"\n",
    "credentials = SpotifyClientCredentials(\n",
    "        client_id=CLIENT_ID,\n",
    "        client_secret=CLIENT_SECRET)\n",
    "\n",
    "token = credentials.get_access_token(as_dict=False)\n",
    "spotify = spotipy.Spotify(auth=token)\n",
    "spotify.trace = False\n",
    "# #################################################\n",
    "\n",
    "# #################################################\n",
    "#   Genius API settings and user credentials\n",
    "genius_api = genius.Genius(\"T-bfzytjCOguYO2L9hG7_tX0-b_p6BJG1pxJClgTS_37EEo3kkbmfbo3YRhnZ94o\")\n",
    "genius.verbose = True                         # Keep status messages on\n",
    "genius.remove_section_headers = False         # Remove section headers (e.g. [Chorus]) from lyrics when searching\n",
    "genius.excluded_terms = [\"(Remix)\", \"(Live)\"] # Exclude songs with these words in their title\n",
    "# #################################################\n",
    "\n",
    "start = time.time()\n",
    "\n",
    "# #################################################\n",
    "#      Initial user query for a track name\n",
    "# #################################################\n",
    "results = spotify.search(\"Thriller\", type=\"track\", limit=1)\n",
    "\n",
    "if len(results['tracks']['items']) > 0:\n",
    "    track = results['tracks']['items'][0]\n",
    "    audio_features = spotify.audio_features(str(track['uri']))[0]\n",
    "    # #################################################\n",
    "    # Comment out audio_analysis for now, because it is ridiculously complex\n",
    "    audio_analysis = spotify.audio_analysis(str(track['uri']))\n",
    "    # #################################################\n",
    "    primary_artist = spotify.artist(str(track['album']['artists'][0]['uri']))\n",
    "    # #################################################\n",
    "    # Features from initial spotify.search API call\n",
    "    # #################################################\n",
    "    track_name = str(track['name'])\n",
    "    print('track                  : ' + track_name)\n",
    "    artist_name = str(track['artists'][0]['name'])\n",
    "    print('artist(s)              : ' + artist_name)\n",
    "    print('track id               : ' + str(track['id']))\n",
    "    print('song spotify link      : ' + str(track['external_urls']['spotify']))\n",
    "    print('artist id              : ' + str(track['artists'][0]['id']))\n",
    "    print('release date           : ' + str(track['album']['release_date']))\n",
    "    print('release date precision : ' + str(track['album']['release_date_precision']))\n",
    "    print('duration (ms)          : ' + str(track['duration_ms']))\n",
    "    print('popularity             : ' + str(track['popularity']))\n",
    "    print('explicit (true/false)  : ' + str(track['explicit']))\n",
    "    print('audio preview          : ' + track['preview_url'])\n",
    "    print('cover art 300x300 JFIF : ' + track['album']['images'][1]['url'])\n",
    "    # #################################################\n",
    "    # Features from spotify.audio_features API call\n",
    "    # #################################################\n",
    "    print('danceability           : ' + str(audio_features['danceability']))\n",
    "    print('energy                 : ' + str(audio_features['energy']))\n",
    "    print('key                    : ' + str(audio_features['key']))\n",
    "    print('loudness               : ' + str(audio_features['loudness']))\n",
    "    print('mode                   : ' + str(audio_features['mode']))\n",
    "    print('speechiness            : ' + str(audio_features['speechiness']))\n",
    "    print('acousticness           : ' + str(audio_features['acousticness']))\n",
    "    print('instrumentalness       : ' + str(audio_features['instrumentalness']))\n",
    "    print('liveness               : ' + str(audio_features['liveness']))\n",
    "    print('valence                : ' + str(audio_features['valence']))\n",
    "    print('tempo                  : ' + str(audio_features['tempo']))\n",
    "    print('time signature         : ' + str(audio_features['time_signature']))\n",
    "    # #################################################\n",
    "    # Features from spotify.artist API call\n",
    "    # #################################################\n",
    "    print('num artist followers   : ' + str(primary_artist['followers']['total']))\n",
    "    print('artist genres          : ' + str(primary_artist['genres']))\n",
    "    print('artist popularity      : ' + str(primary_artist['popularity']))\n",
    "    print('artist spotify avatar  : ' + str(primary_artist['images'][1]['url']))\n",
    "    print('artist spotify link    : ' + str(primary_artist['external_urls']['spotify']))\n",
    "    # #################################################\n",
    "    # Search for song lyrics via Genius API\n",
    "    # #################################################\n",
    "    song = genius_api.search_song(track_name, artist_name)\n",
    "    if song is None:\n",
    "      delta = time.time() - start\n",
    "      print(\"Lyrics not found. Other features retrieved in %.2f seconds\" % (delta,))\n",
    "      print()\n",
    "    else:\n",
    "      lyrics = song.lyrics\n",
    "      delta = time.time() - start\n",
    "      print(\"Lyrics found. All features retrieved in %.2f seconds\" % (delta,))\n",
    "      print()\n",
    "else:\n",
    "    print('Track not found')"
   ]
  },
  {
   "cell_type": "code",
   "execution_count": 2,
   "metadata": {},
   "outputs": [
    {
     "name": "stdout",
     "output_type": "stream",
     "text": "[Verse 1: Michael Jackson]\nIt's close to midnight\nSomething evil's lurking in the dark\nUnder the moonlight\nYou see a sight that almost stops your heart\nYou try to scream\nBut terror takes the sound before you make it\nYou start to freeze\nAs horror looks you right between your eyes\nYou're paralyzed\n\n[Chorus 1: Michael Jackson]\n'Cause this is thriller\nThriller night\nAnd no one's gonna save you\nFrom the beast about to strike\nYou know it's thriller\nThriller night\nYou're fighting for your life\nInside a killer\nThriller tonight, yeah, ooh\n\n[Verse 2: Michael Jackson]\nYou hear the door slam\nAnd realize there's nowhere left to run\nYou feel the cold hand\nAnd wonder if you'll ever see the sun\nYou close your eyes\nAnd hope that this is just imagination\nGirl, but all the while\nYou hear a creature creeping up behind\nYou're out of time\n\n[Chorus 2: Michael Jackson]\n'Cause this is thriller, thriller night\nThere ain't no second chance\nAgainst the thing with 40 eyes, girl\n(Ooh, ooh)\nThriller, thriller night\nYou're fighting for your life\nInside a killer, thriller tonight\n\n[Bridge: Michael Jackson]\nNight creatures call\nAnd the dead start to walk in their masquerade\nThere's no escaping the jaws of the alien this time\nThey're open wide\nThis is the end of your life, ooh\n\n[Verse 3: Michael Jackson]\nThey're out to get you\nThere's demons closing in on every side, ooh\nThey will possess you\nUnless you change that number on your dial\nNow is the time\nFor you and I to cuddle close together, yeah\nAll through the night\nI'll save you from the terror on the screen\nI'll make you see\n\n[Chorus 3: Michael Jackson]\nThat this is thriller, thriller night\n'Cause I can thrill you more\nThan any ghoul would ever dare try\nThriller, thriller night\nSo let me hold you tight\nAnd share a killer, thriller, chiller\nThriller here tonight\n'Cause this is thriller, thriller night\nGirl, I can thrill you more\nThan any ghoul would ever dare try\n(Ooh, ooh)\nThriller, thriller night\nSo let me hold you tight\nAnd share a killer, thriller\nI'm gonna thrill you tonight\n\n[Outro: Vincent Price & Michael Jackson]\nDarkness falls across the land\nThe midnight hour is close at hand\nCreatures crawl in search of blood\nTo terrorize y'all's neighborhood\nI'm gonna thrill you tonight\nAnd whosoever shall be found\nWithout the soul for getting down\nMust stand and face the hounds of hell\nAnd rot inside a corpse's shell\nI'm gonna thrill you tonight\n(Thriller, ooh, thriller)\nI'm gonna thrill you tonight\n(Thriller night, thriller)\nI'm gonna thrill you tonight\nOoh, babe, I'm gonna thrill you tonight\nThriller night, babe\nThe foulest stench is in the air\nThe funk of 40 thousand years (Thriller night, thriller)\nAnd grisly ghouls from every tomb\nAre closing in to seal your doom\nAnd though you fight to stay alive\nYour body starts to shiver (I'm gonna thrill you tonight)\nFor no mere mortal can resist\nThe evil of the thriller!\nAHAHAHAHAHAHAHAHA\nAHAHAHAHAHAHAHAHA!\n"
    }
   ],
   "source": [
    "print(lyrics)"
   ]
  },
  {
   "cell_type": "code",
   "execution_count": 3,
   "metadata": {},
   "outputs": [
    {
     "name": "stdout",
     "output_type": "stream",
     "text": "meta\ntrack\nbars\nbeats\ntatums\nsections\nsegments\n"
    }
   ],
   "source": [
    "for key, value in audio_analysis.items() :\n",
    "    print (key)"
   ]
  },
  {
   "cell_type": "code",
   "execution_count": 13,
   "metadata": {},
   "outputs": [
    {
     "name": "stdout",
     "output_type": "stream",
     "text": "{'start': 0.0, 'duration': 18.33347, 'confidence': 1.0, 'loudness': -19.551, 'tempo': 112.68, 'tempo_confidence': 0.337, 'key': 1, 'key_confidence': 0.672, 'mode': 1, 'mode_confidence': 0.462, 'time_signature': 4, 'time_signature_confidence': 0.867}\n{'start': 18.33347, 'duration': 26.44108, 'confidence': 1.0, 'loudness': -6.534, 'tempo': 118.322, 'tempo_confidence': 0.366, 'key': 11, 'key_confidence': 0.25, 'mode': 1, 'mode_confidence': 0.514, 'time_signature': 4, 'time_signature_confidence': 1.0}\n{'start': 44.77455, 'duration': 12.18388, 'confidence': 0.929, 'loudness': -6.47, 'tempo': 118.234, 'tempo_confidence': 0.818, 'key': 11, 'key_confidence': 0.079, 'mode': 1, 'mode_confidence': 0.084, 'time_signature': 4, 'time_signature_confidence': 1.0}\n{'start': 56.95843, 'duration': 53.25486, 'confidence': 0.453, 'loudness': -3.419, 'tempo': 118.385, 'tempo_confidence': 0.663, 'key': 11, 'key_confidence': 0.748, 'mode': 1, 'mode_confidence': 0.53, 'time_signature': 4, 'time_signature_confidence': 1.0}\n{'start': 110.21329, 'duration': 75.48292, 'confidence': 0.453, 'loudness': -2.951, 'tempo': 118.415, 'tempo_confidence': 0.587, 'key': 11, 'key_confidence': 0.283, 'mode': 1, 'mode_confidence': 0.413, 'time_signature': 4, 'time_signature_confidence': 1.0}\n{'start': 185.69621, 'duration': 46.07494, 'confidence': 0.301, 'loudness': -3.037, 'tempo': 118.516, 'tempo_confidence': 0.571, 'key': 11, 'key_confidence': 0.694, 'mode': 1, 'mode_confidence': 0.477, 'time_signature': 4, 'time_signature_confidence': 1.0}\n{'start': 231.77115, 'duration': 23.27287, 'confidence': 0.2, 'loudness': -2.587, 'tempo': 118.613, 'tempo_confidence': 0.591, 'key': 6, 'key_confidence': 0.513, 'mode': 0, 'mode_confidence': 0.462, 'time_signature': 4, 'time_signature_confidence': 1.0}\n{'start': 255.04403, 'duration': 90.12706, 'confidence': 0.91, 'loudness': -3.386, 'tempo': 118.508, 'tempo_confidence': 0.508, 'key': 11, 'key_confidence': 0.222, 'mode': 1, 'mode_confidence': 0.281, 'time_signature': 4, 'time_signature_confidence': 1.0}\n{'start': 345.17109, 'duration': 12.88225, 'confidence': 0.997, 'loudness': -6.524, 'tempo': 118.445, 'tempo_confidence': 0.515, 'key': 5, 'key_confidence': 0.11, 'mode': 1, 'mode_confidence': 0.481, 'time_signature': 4, 'time_signature_confidence': 1.0}\n"
    }
   ],
   "source": [
    "for i in range(len(audio_analysis['sections'])):\n",
    "    print(audio_analysis['sections'][i])"
   ]
  },
  {
   "cell_type": "markdown",
   "metadata": {},
   "source": [
    "# Simple functions for analyzing audio_analysis pieces"
   ]
  },
  {
   "cell_type": "code",
   "execution_count": 19,
   "metadata": {},
   "outputs": [
    {
     "data": {
      "text/plain": "'00:05:45'"
     },
     "execution_count": 19,
     "metadata": {},
     "output_type": "execute_result"
    }
   ],
   "source": [
    "def time(num):\n",
    "    \"\"\" Converts float to time format \"\"\"\n",
    "    seconds = num\n",
    "    minutes, seconds = divmod(seconds, 60)\n",
    "    hours, minutes = divmod(minutes, 60)\n",
    "\n",
    "    return \"%02d:%02d:%02d\"%(hours,minutes,seconds)\n",
    "\n",
    "time(345.17109)"
   ]
  },
  {
   "cell_type": "code",
   "execution_count": 20,
   "metadata": {},
   "outputs": [
    {
     "data": {
      "text/plain": "'D'"
     },
     "execution_count": 20,
     "metadata": {},
     "output_type": "execute_result"
    }
   ],
   "source": [
    "def key(key_val):\n",
    "    key_dict = {0:'C', 1:'C#/Db', 2:'D', 3:'D#/Eb', 4:'E', 5:'F', 6:'F#/Gb', 7:'G', 8:'G#/Ab', 9:'A', 10:'A#/Bb', 11:'B'}\n",
    "    return key_dict[key_val]\n",
    "\n",
    "key(2)"
   ]
  },
  {
   "cell_type": "code",
   "execution_count": null,
   "metadata": {},
   "outputs": [],
   "source": []
  },
  {
   "cell_type": "code",
   "execution_count": 5,
   "metadata": {},
   "outputs": [
    {
     "data": {
      "text/plain": "yM_i0KCJ-HwruqaCTk6fdY3H5694Wr0RqXhzKS2gif48TERgvhLw8NXJW98IsFQR4aMMagYWJoce__i5PeS3vo51aOz1_-_TzUi_N5md9NBRUNiEVrAMmUdzCb34bGrLODLh6ETZRFYDvxDj4FLYuXyTV9S2A4UM-hqtMk0gAM1VSohShD-p_AeqwyrGC_xIjIFCBfZYe1xdqenXuO7UaB3Kj_mf8qXtkY_M2Oz39Eb6FIrs203xMP8jcP-MDp6D3xtHU6xvTq-2oBQkwkvQX8liPDhurVBkIn6aUEOirsKpC0sOl0QU4CyH7yxO8R8VjC6Y2R_Tiq0PAz7QEbgUCofY51OndP65fQe2RrN7p5kWlWWRWaf5dbRb1k39tpInVhaH_WGfZsLfummuRO9l8aKmkUo9EbXVesxFtm3_ryoDGS18p2INwNESyqpz2O7T2iS1AQWwb2RZXOAKgqmvs9Senq-_jvhOzaUUV7qH-0ULK6zAp93eOLGwifh4Vs_HzhLkvXfFkDsx2Uzyb9WbQTZ6XDzK91cgqSpg59jqeOOX59W7uBqwzjhRVZoFDRptWs7XJe8F8PlmLV_EZUmt1-9GU624Ht2UvnpzLG9F5-nuLPOprZCI8V81SJQRZnyT_is4rdXRzrHOD9Rv-KZPy43mSHTe_vh9w-JPMjdQz6aH9G7y8y-I2Kkmv9IsMf0RvyQ8RsEFtrMdi3OooKXnstKzNDgVNVAWNvgAMyzbpKlIRTIWkmVZTLOAsbDJJncDFHPNGx2Ba7zCqnxANplEIxRGVO28bA6eEeMyEKayyqHeKstUMxMIvfqFFaeyXB2i-DvpzUpendnyN3iNHaPGvFKyJi2mS9j-dk5dtVSY2_WifOK7lVo-Z7M_ljd7m5K5i3Cdf1LBCIK_tAb6f4FVBX8Sg6Y5W0dD_HrlQQ0jUFC6GwcDpxMvMUNN6fOCnvKH56GxLn_k3hEUECVHCYg1EIMdnku5z3jyNiu7ahz4C_uuzY0O912b_mBaOCf0JfTnwf-vpQAQxvkan4Cpv3e9CXrEhFWFLhGznCwOpu1cE0HNzZ_hvoWN1R9W4fpgfIEFHS64Mmt15b5Tmscgi7n4GLqIBLl0ZUAY0A-4C-uqDIqIy5aL831aQepb7wQEHvg148fWJVAHghwHrPQyri7prCEbVVWyMUvJ12kcghK5wWN-Isz-UWlSln0FvrKRUKjHhGbrSQpJCZXOzwF9QA-_5mJoP8AfXP-yAYpxyTUWBSEkdvDpbUmpDFveik2-SecGfaPLQlSG5y4aCHiUyO0pmpIu8g4ys9t1LrlWlBVyYLWVssj2i0FkcUYsKEon3ukS4kDfSydKxUswMJ-TBiF1SJdlWPHg_sirfj5uy4xOG743sQ89pa5b2b4ECCPNDBlzbA8dXOp8amdna0OMkaq_ts0vb3VdZ_dc7gGGtTcaD1N0_uBE69Ot4fRWvi5sWPYXs-IAEEb4s9UZRHc8h1NhDKz_DLvMrsO9YDnjhJg53gVUEOWS8t-g8aCHq1dZA-YjbChHhe7vo_nuytHH_e40YdvAqgKvg3rvEiB0Yc7e-q4MHx50Ing_lRQEzTo1Leo6Ic4N0Rfq6KYUmF_0JLJ_vewKkS9kDl9grHzo3og9KT3koAatQxnwihEt3WqNK_T-IsDB7juDukP0jey0CURKMbZ6-HwCGbH6b4gS5CsTK80BrocSE6XvRE7c0VOgz5zEFoYR9LlkH6ca2Hw0ouWvUBLvq5dKYXDjn1Orfbfxn-bOfUwHQr0AfRRz_cSkyHmKL_A6HKfOUdwp8qDASKvfs04P6wHAIjP6OAzz3BhKOReaMBLbyFoQ5W-WWJFfmdxkrpQZ4TIhs9I5X7jLzo3xH6uiMKw_ISDNA5WTsBbe07kTWGAHNpGeR_TCOekZukRWTEsVU3fY02iTXaYpp_9bdx_Q9LdpeG',\n 'echoprint_version': 4.12,\n 'synchstring': 'eJxVWYmVJTkIS6VCMOAz_8QWJPGn900fv6t8YBBCeNzHGl980_J7nP3FeZ_t-e3PP3vnmzPfxmc5aM3P1vcu3u1vfXY-9xxuXw3Klb638tX8Ll7P_N71wh3zzWtNryeWr2qf_KXV60N-L8vJuWA-8fDaod7v2jKf14on_-WAk_NX2fDy_c3vwyUeBqbd-c_zkd8DUyI3e1oqYP_Lp7VKHJh_LhfeE3OjDdvYs76ntsxlc4V0BkZ4_c4D4VFuvz-r48PW4GGcyy0-rj2wHuan6bVHwN6BcQcGZjzq1HXSXZ4KmpcW1Zqvfg76PY8cuf-Ycu7iVmEILMJg5aGyEz92PatBtuuVw6rcfuaYu_BX7ea-ZTdcnz47BYB8ag_GRRng6d1c4cKDkS7a8OGrU7tNeM2uFl01vNYwnDJPfeA8K9TkIe8nQzExB5aPcqnzKYo4UYb31s71y-HVwwmBo_imqy_A8cq88mG-DGLrfjpZBFY1gPFhhNey-blOma4eZWN6d9JtVkvMUUmQh0_PRy2ZaWLXajVPMHn-ngWPVQ5IF51c5KZ55bWZ0z3fZ9I5MJ4LrZqz4H5_D3MzYzwy-nsDPwmrsiEXqBzKNTxBPtMCKyQW8ioZARMDahYSKE914BvEGgGoJbD8rpRjNDcgdGp2BWXl83xQFh7govy1AL61aUFFxWsWvOqj9nKAlImFd-k4rjtfuXckLuLF3mcAlKcGbsJjBMGM0wajM8EqCPpg3h4k3SC1RCCRi0KMAURmTWz9kGFrIl2jRmymMidwM9iGAfhyuvqSoyZMA8GQCeZjSoPsCE3_Lglqg80OEoWwQQSK9XJWgbIcXXyXE9LxO_BkwrsJMVFE5QTjUyjCV43YNOHUwhVkJWWR8CkkfLPzN0mh_sqo5aREU2A9RpXhnwZKhAeZibGZTgZK33DgFa_V88wksBAzCeevE2HJgxwbyPRZKxERAQrGko-jDEcEOE_ZcGrzXGUeOPrUwveCuwrOZRYOvWvEki2BwpM-GDzwq-2WCG1jcO1dAUIRyGhVAVjFSZxLwHs5PnfZDm-X2UzuUNIn3hZAUBN2-eXWVpOpZoLCRA4VBrzgc_AywGCJsczRMmzUXpeIy9QOEH0coDXAygODyrpZO6SzF0LDfCyggqZ-iDqIGOKTYw-fw6DMzbJ8MjJg-A3fF_ICVdnKURsMmOkNvg1k1GbFdh7bUEYB9GK3ojGgoDJ2HZDrG985cnetvRiTgVKuylmRRyWwitMBUIuTCrq1kaFchOlcq7yuv6YCf0yhRjYslC9YC-DN4ioCOMhIBliA9A4ONoGpYjDD4FEHYBE-jOosYJcySF5itQm4MFm-CHujAJox3Z2ZBN8YdQulEDWIA2SHxz-cQrYFlTCFDbqJYQ9SHqKPbOKuJg5a4KzHeJJveMjg6kEmqsMW4eJgpU_sql5e7bto7_5bPh_JS7JjkRkvC-lp6nMmMI5kgO3FnAA_BpNzDroIyQt8RMsVKsDNzA3Jvfs9Eq3EkPSGbbKrEYzghVozU-dDxEmLAQxJTyFFvJ5AEy7Sm9PTm2es-p_hMMGgYFHOX_T9kdjJTyoMMdt2g2RwBOjwdxV_QrroeQvyRSLKn4dFtrSIhagP4LiPBvA4YE2UkE3avAKWlemOBUsO-2SJho4KpROUlmps8QkPoRMd7hEGVz_AYNYo36LsR_VEPG7QGMiI8uGwANC5AQKEBSiklbeDZi7WZipmm1_LpgfVj81N6s0YEldfMAcDbYPZrS5ikdMf_jkz5RWma6lYROEiQnzwnHjhcM6V1nTMP9_7HREV5-lQRmFkPPsjZ18UJBTlAeSJQ35SoOoygcuYI1GcKsYuF78EHUx6GldxVzwqXksqfpOn_ZIyuMvpnmarpi-mrjGFDIjzf-agdiFLJx0GgCy5GoU8rOvvoE6qGfCR0dFVvTHaqYhdiqZT2pvC0j8lEFYzH_wO5j3KGfYYRzW5yiDLUqlZQhCc5vAV8riiYVzNVZOcgCfZG4qaDa1dEnOxUohq4MmGMlOOrSHel4MHTBzySsYWdfgSiw-twaX2Pb9mrWpL_VUxKGbsPg9i7oBgFkVKTTx7RuAJi9Wks_9UMxeaAN0Zeg35IdFuoiOUaEjHb9PtRqpvt7mY27Z-MkGkxCB_L_iBvF060woZ9UUB9NQaMVMoiKVkHwF-2Zwb29wtBqKCRMXHTgaVgubvUwfFs8RgEHjgIzp21j5SP1SWPhyVNMOfjiL0pLANJv9Pu7_uY5YcrdmvPoPyV89HUfPdWGGjydsIWYcqXOmztXF83Qsxayb4oXJj6woAZTaWEpTFhkURKelYDxo7ePpgPTZXCjpgzvg_mHP_RIcY3hSU1o0Ok-s0Y2xqZJ7SNMN4SSLxjHrrS8enRIJaCkIOXlWPZl1zVpMumvuwXsA1QHwcdAKF1ZX-VLQO-2AofETTh-5uqGKWmMlXLw48kVPY9uMc7sIHKybYXc0oilJ4N7PQY47ucOEvLn51j8AkUmupUuKjB07JttF5-CQdhB8pPcUQufenkeaRkBM8hrC44ASTbA8log_Zg2d7_zkj7xxcPuBhHC4PtkLGmy77uWeLYv8tbf_c1ss51X-7TZaGos-rAXIepRET2dn_MsVtS5Vc8P0vWf_m9EXADwBzdL9j6uNvOxMU47N7PIwIQNBuJzDbgVaedatlnctb6jpMAHBc3QU933nH6edHn7S0rHYWSJIo2YZKngdovYdCxVugXybTXJYYXQj4Ft5BIKdZTlJuSNntZqvVB4SbJEvQwffd5-5O7TVsh9KRDasdJSsRYld4ZfYuKidpk60D0Um8WqBOOawz9AjIxqFhONeD1yiogKA9dYSNO0Hzl7NHewVMd2cFfb9SoWu46ErO1uhSr8g63Hbi3gSa0YfuFa66ndc0xFzBNmJfAik0DNKB8Z72v8KqXIXZ7A58yNGqQs6rpX-SzEWr3BVVIaYKCMSee3cZIBFHX86LhF8WElO_VPsV3R8gtr4W3ab8CvX0pI4wbXiVo2rvjXcIV-darCazAXAUIALppxJag1DYW8tMXqxbt8bGfgepIpF1muKPeEcFWen7Y11clnRV8MtLBl12aGukK_d6lGqGMVQc3EClYXYSboli3KUc0jgy5_blsu4vyRAiaO_oU4R1lkGCBW-LLr27xTHSU2ycdB_taowaIo_NATvu07X86KarQk_Uh1y5-nqtq5_4Ej-Dwsp1zYWYuTVwrzaI1fXUGkFb4PBB5z1V1K6vVHcsvkq12_Rt_-z2DvkPjlOdlXVZ_Q0tTjvSf3Y6g4Ji0X_O2D-BIFNbIxVRqgEjxxgay1B9XrixpjQMo4SSRm3VxTwxZ2npdInRNe2X8YPN68-gqw5otrL7vWEnZfrAhgFrzFCBjCERxZY-eBdDxbA73wRhNk8WfbEiyOxPLdNPJklJ--4LUl6MXF7EsIrCGdbRPd017G50XJB_fd1OBkIusmva_0LHnXxKtvNKYhAxT3whfvs5xlX639daJbrLo6Os3c5xU6HwlpVsvwTS_bflf_TX4tULvCUxPpmOQ32Qc9ZrlTOaIZAVxgsO2WFfc8FimJ5K_081X1E2cNTcMBs1Jvl7-T8YfthPvK7ETxU6eg0bqjz2R0j77P_qU0CoILrJ5l3i_ppvKp-8oQvCjP8Axocf_A==',\n 'synch_version': 1.0,\n 'rhythmstring': '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',\n 'rhythm_version': 1.0}"
     },
     "execution_count": 5,
     "metadata": {},
     "output_type": "execute_result"
    }
   ],
   "source": [
    "audio_analysis['track']"
   ]
  }
 ],
 "metadata": {
  "colab": {
   "collapsed_sections": [],
   "name": "Sean_Hobin_Spotify_API_Starter.ipynb",
   "provenance": []
  },
  "kernelspec": {
   "display_name": "Python (DL/NLP)",
   "language": "python",
   "name": "python_dl_nlp"
  },
  "language_info": {
   "codemirror_mode": {
    "name": "ipython",
    "version": 3
   },
   "file_extension": ".py",
   "mimetype": "text/x-python",
   "name": "python",
   "nbconvert_exporter": "python",
   "pygments_lexer": "ipython3",
   "version": "3.7.4-final"
  }
 },
 "nbformat": 4,
 "nbformat_minor": 1
}