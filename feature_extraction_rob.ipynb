{
 "cells": [
  {
   "cell_type": "code",
   "execution_count": 1,
   "metadata": {},
   "outputs": [
    {
     "name": "stdout",
     "output_type": "stream",
     "text": "track                  : Thriller\nartist(s)              : Michael Jackson\ntrack id               : 7azo4rpSUh8nXgtonC6Pkq\nsong spotify link      : https://open.spotify.com/track/7azo4rpSUh8nXgtonC6Pkq\nartist id              : 3fMbdgg4jU18AjLCKBhRSm\nrelease date           : 2017-09-27\nrelease date precision : day\nduration (ms)          : 358053\npopularity             : 67\nexplicit (true/false)  : False\naudio preview          : https://p.scdn.co/mp3-preview/9f288fba4d3380b1ae25e7f88a2054d7fac0bf2d?cid=09cdac09aca04b7093270e33247e1aea\ncover art 300x300 JFIF : https://i.scdn.co/image/ab67616d00001e02cde37cfdee48dc0eae1e2ab8\ndanceability           : 0.764\nenergy                 : 0.887\nkey                    : 11\nloudness               : -3.725\nmode                   : 1\nspeechiness            : 0.0738\nacousticness           : 0.0816\ninstrumentalness       : 0.000108\nliveness               : 0.847\nvalence                : 0.721\ntempo                  : 118.421\ntime signature         : 4\nnum artist followers   : 13853311\nartist genres          : ['pop', 'r&b', 'soul']\nartist popularity      : 86\nartist spotify avatar  : https://i.scdn.co/image/2e6f35b90c131c137669d06e3c36b1a5d3172864\nartist spotify link    : https://open.spotify.com/artist/3fMbdgg4jU18AjLCKBhRSm\nSearching for \"Thriller\" by Michael Jackson...\nDone.\nLyrics found. All features retrieved in 10.02 seconds\n\n"
    }
   ],
   "source": [
    "import requests\n",
    "import spotipy\n",
    "from spotipy.oauth2 import SpotifyClientCredentials\n",
    "import lyricsgenius as genius\n",
    "import json\n",
    "import time\n",
    "\n",
    "# #################################################\n",
    "#   Spotify API user credentials, generate token\n",
    "CLIENT_ID = \"09cdac09aca04b7093270e33247e1aea\"\n",
    "CLIENT_SECRET = \"243a42f4fb044d34b048a19ea97d5702\"\n",
    "credentials = SpotifyClientCredentials(\n",
    "        client_id=CLIENT_ID,\n",
    "        client_secret=CLIENT_SECRET)\n",
    "\n",
    "token = credentials.get_access_token(as_dict=False)\n",
    "spotify = spotipy.Spotify(auth=token)\n",
    "spotify.trace = False\n",
    "# #################################################\n",
    "\n",
    "# #################################################\n",
    "#   Genius API settings and user credentials\n",
    "genius_api = genius.Genius(\"T-bfzytjCOguYO2L9hG7_tX0-b_p6BJG1pxJClgTS_37EEo3kkbmfbo3YRhnZ94o\")\n",
    "genius.verbose = True                         # Keep status messages on\n",
    "genius.remove_section_headers = False         # Remove section headers (e.g. [Chorus]) from lyrics when searching\n",
    "genius.excluded_terms = [\"(Remix)\", \"(Live)\"] # Exclude songs with these words in their title\n",
    "# #################################################\n",
    "\n",
    "start = time.time()\n",
    "\n",
    "# #################################################\n",
    "#      Initial user query for a track name\n",
    "# #################################################\n",
    "results = spotify.search(\"Thriller\", type=\"track\", limit=1)\n",
    "\n",
    "if len(results['tracks']['items']) > 0:\n",
    "    track = results['tracks']['items'][0]\n",
    "    audio_features = spotify.audio_features(str(track['uri']))[0]\n",
    "    # #################################################\n",
    "    # Comment out audio_analysis for now, because it is ridiculously complex\n",
    "    audio_analysis = spotify.audio_analysis(str(track['uri']))\n",
    "    # #################################################\n",
    "    primary_artist = spotify.artist(str(track['album']['artists'][0]['uri']))\n",
    "    # #################################################\n",
    "    # Features from initial spotify.search API call\n",
    "    # #################################################\n",
    "    track_name = str(track['name'])\n",
    "    print('track                  : ' + track_name)\n",
    "    artist_name = str(track['artists'][0]['name'])\n",
    "    print('artist(s)              : ' + artist_name)\n",
    "    print('track id               : ' + str(track['id']))\n",
    "    print('song spotify link      : ' + str(track['external_urls']['spotify']))\n",
    "    print('artist id              : ' + str(track['artists'][0]['id']))\n",
    "    print('release date           : ' + str(track['album']['release_date']))\n",
    "    print('release date precision : ' + str(track['album']['release_date_precision']))\n",
    "    print('duration (ms)          : ' + str(track['duration_ms']))\n",
    "    print('popularity             : ' + str(track['popularity']))\n",
    "    print('explicit (true/false)  : ' + str(track['explicit']))\n",
    "    print('audio preview          : ' + track['preview_url'])\n",
    "    print('cover art 300x300 JFIF : ' + track['album']['images'][1]['url'])\n",
    "    # #################################################\n",
    "    # Features from spotify.audio_features API call\n",
    "    # #################################################\n",
    "    print('danceability           : ' + str(audio_features['danceability']))\n",
    "    print('energy                 : ' + str(audio_features['energy']))\n",
    "    print('key                    : ' + str(audio_features['key']))\n",
    "    print('loudness               : ' + str(audio_features['loudness']))\n",
    "    print('mode                   : ' + str(audio_features['mode']))\n",
    "    print('speechiness            : ' + str(audio_features['speechiness']))\n",
    "    print('acousticness           : ' + str(audio_features['acousticness']))\n",
    "    print('instrumentalness       : ' + str(audio_features['instrumentalness']))\n",
    "    print('liveness               : ' + str(audio_features['liveness']))\n",
    "    print('valence                : ' + str(audio_features['valence']))\n",
    "    print('tempo                  : ' + str(audio_features['tempo']))\n",
    "    print('time signature         : ' + str(audio_features['time_signature']))\n",
    "    # #################################################\n",
    "    # Features from spotify.artist API call\n",
    "    # #################################################\n",
    "    print('num artist followers   : ' + str(primary_artist['followers']['total']))\n",
    "    print('artist genres          : ' + str(primary_artist['genres']))\n",
    "    print('artist popularity      : ' + str(primary_artist['popularity']))\n",
    "    print('artist spotify avatar  : ' + str(primary_artist['images'][1]['url']))\n",
    "    print('artist spotify link    : ' + str(primary_artist['external_urls']['spotify']))\n",
    "    # #################################################\n",
    "    # Search for song lyrics via Genius API\n",
    "    # #################################################\n",
    "    song = genius_api.search_song(track_name, artist_name)\n",
    "    if song is None:\n",
    "      delta = time.time() - start\n",
    "      print(\"Lyrics not found. Other features retrieved in %.2f seconds\" % (delta,))\n",
    "      print()\n",
    "    else:\n",
    "      lyrics = song.lyrics\n",
    "      delta = time.time() - start\n",
    "      print(\"Lyrics found. All features retrieved in %.2f seconds\" % (delta,))\n",
    "      print()\n",
    "else:\n",
    "    print('Track not found')"
   ]
  },
  {
   "cell_type": "code",
   "execution_count": 2,
   "metadata": {},
   "outputs": [
    {
     "name": "stdout",
     "output_type": "stream",
     "text": "[Verse 1: Michael Jackson]\nIt's close to midnight\nSomething evil's lurking in the dark\nUnder the moonlight\nYou see a sight that almost stops your heart\nYou try to scream\nBut terror takes the sound before you make it\nYou start to freeze\nAs horror looks you right between your eyes\nYou're paralyzed\n\n[Chorus 1: Michael Jackson]\n'Cause this is thriller\nThriller night\nAnd no one's gonna save you\nFrom the beast about to strike\nYou know it's thriller\nThriller night\nYou're fighting for your life\nInside a killer\nThriller tonight, yeah, ooh\n\n[Verse 2: Michael Jackson]\nYou hear the door slam\nAnd realize there's nowhere left to run\nYou feel the cold hand\nAnd wonder if you'll ever see the sun\nYou close your eyes\nAnd hope that this is just imagination\nGirl, but all the while\nYou hear a creature creeping up behind\nYou're out of time\n\n[Chorus 2: Michael Jackson]\n'Cause this is thriller, thriller night\nThere ain't no second chance\nAgainst the thing with 40 eyes, girl\n(Ooh, ooh)\nThriller, thriller night\nYou're fighting for your life\nInside a killer, thriller tonight\n\n[Bridge: Michael Jackson]\nNight creatures call\nAnd the dead start to walk in their masquerade\nThere's no escaping the jaws of the alien this time\nThey're open wide\nThis is the end of your life, ooh\n\n[Verse 3: Michael Jackson]\nThey're out to get you\nThere's demons closing in on every side, ooh\nThey will possess you\nUnless you change that number on your dial\nNow is the time\nFor you and I to cuddle close together, yeah\nAll through the night\nI'll save you from the terror on the screen\nI'll make you see\n\n[Chorus 3: Michael Jackson]\nThat this is thriller, thriller night\n'Cause I can thrill you more\nThan any ghoul would ever dare try\nThriller, thriller night\nSo let me hold you tight\nAnd share a killer, thriller, chiller\nThriller here tonight\n'Cause this is thriller, thriller night\nGirl, I can thrill you more\nThan any ghoul would ever dare try\n(Ooh, ooh)\nThriller, thriller night\nSo let me hold you tight\nAnd share a killer, thriller\nI'm gonna thrill you tonight\n\n[Outro: Vincent Price & Michael Jackson]\nDarkness falls across the land\nThe midnight hour is close at hand\nCreatures crawl in search of blood\nTo terrorize y'all's neighborhood\nI'm gonna thrill you tonight\nAnd whosoever shall be found\nWithout the soul for getting down\nMust stand and face the hounds of hell\nAnd rot inside a corpse's shell\nI'm gonna thrill you tonight\n(Thriller, ooh, thriller)\nI'm gonna thrill you tonight\n(Thriller night, thriller)\nI'm gonna thrill you tonight\nOoh, babe, I'm gonna thrill you tonight\nThriller night, babe\nThe foulest stench is in the air\nThe funk of 40 thousand years (Thriller night, thriller)\nAnd grisly ghouls from every tomb\nAre closing in to seal your doom\nAnd though you fight to stay alive\nYour body starts to shiver (I'm gonna thrill you tonight)\nFor no mere mortal can resist\nThe evil of the thriller!\nAHAHAHAHAHAHAHAHA\nAHAHAHAHAHAHAHAHA!\n"
    }
   ],
   "source": [
    "print(lyrics)"
   ]
  },
  {
   "cell_type": "code",
   "execution_count": 3,
   "metadata": {},
   "outputs": [
    {
     "name": "stdout",
     "output_type": "stream",
     "text": "meta\ntrack\nbars\nbeats\ntatums\nsections\nsegments\n"
    }
   ],
   "source": [
    "for key, value in audio_analysis.items() :\n",
    "    print (key)"
   ]
  },
  {
   "cell_type": "code",
   "execution_count": 23,
   "metadata": {},
   "outputs": [
    {
     "name": "stdout",
     "output_type": "stream",
     "text": "{'start': 0.0, 'duration': 18.33347, 'confidence': 1.0, 'loudness': -19.551, 'tempo': 112.68, 'tempo_confidence': 0.337, 'key': 1, 'key_confidence': 0.672, 'mode': 1, 'mode_confidence': 0.462, 'time_signature': 4, 'time_signature_confidence': 0.867} \n\n{'start': 18.33347, 'duration': 26.44108, 'confidence': 1.0, 'loudness': -6.534, 'tempo': 118.322, 'tempo_confidence': 0.366, 'key': 11, 'key_confidence': 0.25, 'mode': 1, 'mode_confidence': 0.514, 'time_signature': 4, 'time_signature_confidence': 1.0} \n\n{'start': 44.77455, 'duration': 12.18388, 'confidence': 0.929, 'loudness': -6.47, 'tempo': 118.234, 'tempo_confidence': 0.818, 'key': 11, 'key_confidence': 0.079, 'mode': 1, 'mode_confidence': 0.084, 'time_signature': 4, 'time_signature_confidence': 1.0} \n\n{'start': 56.95843, 'duration': 53.25486, 'confidence': 0.453, 'loudness': -3.419, 'tempo': 118.385, 'tempo_confidence': 0.663, 'key': 11, 'key_confidence': 0.748, 'mode': 1, 'mode_confidence': 0.53, 'time_signature': 4, 'time_signature_confidence': 1.0} \n\n{'start': 110.21329, 'duration': 75.48292, 'confidence': 0.453, 'loudness': -2.951, 'tempo': 118.415, 'tempo_confidence': 0.587, 'key': 11, 'key_confidence': 0.283, 'mode': 1, 'mode_confidence': 0.413, 'time_signature': 4, 'time_signature_confidence': 1.0} \n\n{'start': 185.69621, 'duration': 46.07494, 'confidence': 0.301, 'loudness': -3.037, 'tempo': 118.516, 'tempo_confidence': 0.571, 'key': 11, 'key_confidence': 0.694, 'mode': 1, 'mode_confidence': 0.477, 'time_signature': 4, 'time_signature_confidence': 1.0} \n\n{'start': 231.77115, 'duration': 23.27287, 'confidence': 0.2, 'loudness': -2.587, 'tempo': 118.613, 'tempo_confidence': 0.591, 'key': 6, 'key_confidence': 0.513, 'mode': 0, 'mode_confidence': 0.462, 'time_signature': 4, 'time_signature_confidence': 1.0} \n\n{'start': 255.04403, 'duration': 90.12706, 'confidence': 0.91, 'loudness': -3.386, 'tempo': 118.508, 'tempo_confidence': 0.508, 'key': 11, 'key_confidence': 0.222, 'mode': 1, 'mode_confidence': 0.281, 'time_signature': 4, 'time_signature_confidence': 1.0} \n\n{'start': 345.17109, 'duration': 12.88225, 'confidence': 0.997, 'loudness': -6.524, 'tempo': 118.445, 'tempo_confidence': 0.515, 'key': 5, 'key_confidence': 0.11, 'mode': 1, 'mode_confidence': 0.481, 'time_signature': 4, 'time_signature_confidence': 1.0} \n\n"
    }
   ],
   "source": [
    "for i in range(len(audio_analysis['sections'])):\n",
    "    print(audio_analysis['sections'][i], '\\n')"
   ]
  },
  {
   "cell_type": "code",
   "execution_count": 24,
   "metadata": {},
   "outputs": [
    {
     "name": "stdout",
     "output_type": "stream",
     "text": "3, 0.637, 0.453, 0.265, 0.391, 0.243, 0.338, 0.269, 0.201, 0.314], 'timbre': [54.759, 87.7, 49.07, -2.119, 28.216, -18.132, -4.308, -34.358, -5.092, -0.892, -19.845, -1.165]} \n\n{'start': 343.4346, 'duration': 1.14925, 'confidence': 0.638, 'loudness_start': -10.216, 'loudness_max_time': 0.1554, 'loudness_max': -2.85, 'pitches': [0.492, 1.0, 0.318, 0.64, 0.564, 0.458, 0.452, 0.395, 0.719, 0.447, 0.21, 0.287], 'timbre': [45.653, 78.982, -24.962, 156.212, 20.663, 9.357, -22.499, 57.925, -5.859, -17.468, -90.567, 1.132]} \n\n{'start': 344.58385, 'duration': 0.22658, 'confidence': 1.0, 'loudness_start': -40.525, 'loudness_max_time': 0.08431, 'loudness_max': -1.276, 'pitches': [0.825, 0.466, 0.373, 0.486, 0.637, 0.8, 1.0, 0.999, 0.505, 0.864, 0.893, 0.794], 'timbre': [42.396, 112.211, 128.495, -132.784, 47.345, 127.209, 35.991, -48.685, -30.322, 29.183, -57.372, -5.424]} \n\n{'start': 344.81043, 'duration': 0.13338, 'confidence': 0.862, 'loudness_start': -16.051, 'loudness_max_time': 0.0358, 'loudness_max': -4.987, 'pitches': [0.612, 0.443, 0.381, 0.437, 0.419, 0.441, 0.498, 0.728, 0.661, 1.0, 0.811, 0.705], 'timbre': [53.82, 104.888, 164.579, 35.213, 34.91, -28.908, 34.785, 24.742, -6.113, 1.244, 5.195, -5.34]} \n\n{'start': 344.94381, 'duration': 0.3078, 'confidence': 0.157, 'loudness_start': -7.338, 'loudness_max_time': 0.06882, 'loudness_max': -4.539, 'pitches': [0.273, 0.427, 0.371, 0.207, 0.234, 0.45, 0.158, 0.413, 0.443, 0.528, 1.0, 0.266], 'timbre': [52.842, 175.116, 138.774, 75.082, 34.638, -8.778, 25.441, 14.91, -12.582, -15.785, -38.812, 18.978]} \n\n{'start': 345.25161, 'duration': 0.18603, 'confidence': 0.958, 'loudness_start': -17.825, 'loudness_max_time': 0.05433, 'loudness_max': -4.544, 'pitches': [0.798, 0.398, 0.548, 0.487, 0.488, 0.693, 0.584, 0.673, 0.989, 0.385, 0.452, 1.0], 'timbre': [49.328, 120.068, 137.276, 113.355, 46.038, 27.15, 62.366, 21.7, -8.338, -21.322, -23.007, 13.527]} \n\n{'start': 345.43764, 'duration': 0.2205, 'confidence': 1.0, 'loudness_start': -18.903, 'loudness_max_time': 0.07535, 'loudness_max': -3.172, 'pitches': [1.0, 0.58, 0.389, 0.69, 0.686, 0.589, 0.828, 0.726, 0.732, 0.612, 0.621, 0.84], 'timbre': [50.138, 132.119, 126.437, 62.243, 52.741, 44.721, 56.12, 33.662, 0.434, -7.791, -19.74, 19.644]} \n\n{'start': 345.65814, 'duration': 0.21438, 'confidence': 0.959, 'loudness_start': -16.037, 'loudness_max_time': 0.06553, 'loudness_max': -1.97, 'pitches': [0.532, 0.595, 0.45, 0.572, 0.579, 0.787, 0.994, 0.617, 0.455, 0.474, 0.666, 1.0], 'timbre': [49.907, 132.546, 126.245, 50.138, 51.947, 28.478, 46.118, 30.332, -4.275, 15.484, -34.454, 21.09]} \n\n{'start': 345.87252, 'duration': 0.19773, 'confidence': 0.965, 'loudness_start': -16.305, 'loudness_max_time': 0.07193, 'loudness_max': -3.485, 'pitches': [0.896, 0.686, 0.593, 0.842, 0.882, 1.0, 0.69, 0.709, 0.531, 0.811, 0.507, 0.943], 'timbre': [49.612, 133.895, 128.051, 56.373, 48.093, 44.666, 49.752, 11.31, -3.617, 2.017, -30.875, 15.216]} \n\n{'start': 346.07025, 'duration': 0.21456, 'confidence': 1.0, 'loudness_start': -16.49, 'loudness_max_time': 0.08723, 'loudness_max': -2.53, 'pitches': [0.594, 0.631, 0.538, 0.84, 0.635, 0.765, 0.885, 0.761, 0.517, 0.463, 0.774, 1.0], 'timbre': [48.56, 140.974, 151.442, 37.35, 59.443, 41.956, 41.369, 11.797, -6.446, -0.568, -51.546, 15.165]} \n\n{'start': 346.28481, 'duration': 0.20327, 'confidence': 1.0, 'loudness_start': -16.826, 'loudness_max_time': 0.0724, 'loudness_max': -2.722, 'pitches': [0.316, 0.406, 0.476, 0.705, 0.696, 0.378, 0.55, 0.564, 0.638, 0.333, 0.709, 1.0], 'timbre': [48.535, 125.671, 143.359, 37.155, 59.111, 38.351, 45.765, 19.283, -2.339, 8.938, -51.405, 14.748]} \n\n{'start': 346.48807, 'duration': 0.22036, 'confidence': 0.941, 'loudness_start': -17.208, 'loudness_max_time': 0.08463, 'loudness_max': -4.101, 'pitches': [0.273, 0.334, 0.418, 0.68, 0.395, 0.524, 0.433, 0.661, 0.365, 0.264, 1.0, 0.424], 'timbre': [46.401, 107.71, 157.847, 26.989, 59.598, 3.671, 47.187, 22.08, -4.866, 14.905, -60.591, 13.802]} \n\n{'start': 346.70844, 'duration': 0.19746, 'confidence': 0.946, 'loudness_start': -18.188, 'loudness_max_time': 0.06755, 'loudness_max': -5.014, 'pitches': [0.475, 0.663, 0.975, 0.515, 0.438, 0.567, 1.0, 0.599, 0.57, 0.935, 0.47, 0.473], 'timbre': [46.624, 75.646, 137.096, 54.624, 63.071, 27.236, 39.349, 34.921, 5.292, 8.902, -50.946, -10.118]} \n\n{'start': 346.9059, 'duration': 0.20331, 'confidence': 0.979, 'loudness_start': -20.699, 'loudness_max_time': 0.07841, 'loudness_max': -5.739, 'pitches': [0.489, 1.0, 0.739, 0.421, 0.433, 0.969, 0.546, 0.458, 0.722, 0.448, 0.336, 0.458], 'timbre': [44.657, 55.619, 147.097, 24.628, 63.707, 27.772, 30.753, 15.372, -3.808, 9.534, -55.101, -6.686]} \n\n{'start': 347.10921, 'duration': 0.17995, 'confidence': 0.99, 'loudness_start': -20.77, 'loudness_max_time': 0.08651, 'loudness_max': -6.926, 'pitches': [0.902, 1.0, 0.741, 0.632, 0.748, 0.676, 0.784, 0.876, 0.683, 0.339, 0.402, 0.461], 'timbre': [44.206, 34.523, 146.663, 2.328, 64.895, 29.568, 36.885, 5.658, -5.298, 8.157, -59.719, -9.942]} \n\n{'start': 347.28916, 'duration': 0.2156, 'confidence': 0.859, 'loudness_start': -19.825, 'loudness_max_time': 0.13361, 'loudness_max': -8.599, 'pitches': [0.751, 0.524, 0.624, 0.812, 0.492, 0.641, 0.466, 0.429, 0.479, 0.869, 1.0, 0.765], 'timbre': [45.797, 120.125, 123.564, -35.355, 52.613, 10.211, 4.363, 12.046, -27.956, -19.239, -27.423, -26.07]} \n\n{'start': 347.50476, 'duration': 0.10925, 'confidence': 0.856, 'loudness_start': -18.261, 'loudness_max_time': 0.04649, 'loudness_max': -5.227, 'pitches': [0.206, 0.42, 0.499, 0.691, 1.0, 0.165, 0.316, 0.268, 0.437, 0.506, 0.119, 0.149], 'timbre': [53.08, 41.174, 104.884, 1.143, 51.29, -39.928, -13.76, 43.266, 20.734, -18.189, 16.451, -33.772]} \n\n{'start': 347.61401, 'duration': 0.24993, 'confidence': 0.504, 'loudness_start': -7.79, 'loudness_max_time': 0.07898, 'loudness_max': -2.715, 'pitches': [0.766, 1.0, 0.302, 0.304, 0.525, 0.503, 0.257, 0.399, 0.52, 0.314, 0.278, 0.319], 'timbre': [54.145, 152.44, 128.222, 67.633, 50.939, -3.181, 8.972, -26.929, -9.403, 7.349, -35.962, 18.236]} \n\n{'start': 347.86395, 'duration': 0.22644, 'confidence': 0.852, 'loudness_start': -12.271, 'loudness_max_time': 0.05889, 'loudness_max': -1.061, 'pitches': [0.837, 0.906, 0.47, 0.609, 1.0, 0.72, 0.613, 0.828, 0.708, 1.0, 0.709, 0.638], 'timbre': [54.144, 134.773, 136.197, 74.805, 52.998, -2.929, 16.054, 21.394, -0.133, -18.414, -7.311, 8.156]} \n\n{'start': 348.09039, 'duration': 0.26127, 'confidence': 0.852, 'loudness_start': -11.926, 'loudness_max_time': 0.04769, 'loudness_max': -0.375, 'pitches': [0.57, 0.427, 0.266, 0.403, 0.658, 0.719, 0.563, 0.51, 0.643, 1.0, 0.875, 0.494], 'timbre': [55.177, 160.457, 121.363, 73.761, 55.172, -0.447, 15.994, 17.856, 16.258, -17.949, -29.128, 9.932]} \n\n{'start': 348.35166, 'duration': 0.27868, 'confidence': 0.88, 'loudness_start': -12.557, 'loudness_max_time': 0.06644, 'loudness_max': 0.293, 'pitches': [0.45, 0.375, 0.203, 0.263, 0.664, 0.732, 0.409, 0.59, 0.423, 1.0, 0.814, 0.315], 'timbre': [53.165, 134.936, 133.771, 44.625, 58.311, 12.692, 33.454, 27.601, 11.608, -0.077, -22.24, 8.621]} \n\n{'start': 348.63034, 'duration': 0.31914, 'confidence': 0.818, 'loudness_start': -13.417, 'loudness_max_time': 0.0607, 'loudness_max': -3.713, 'pitches': [0.632, 0.409, 0.352, 0.369, 0.643, 1.0, 0.647, 0.539, 0.492, 0.451, 0.602, 0.755], 'timbre': [49.704, 154.42, 132.67, 44.057, 54.465, 9.434, 35.516, 23.768, 11.156, 3.884, -43.379, 17.783]} \n\n{'start': 348.94948, 'duration': 0.15075, 'confidence': 0.893, 'loudness_start': -14.059, 'loudness_max_time': 0.02494, 'loudness_max': -2.294, 'pitches': [0.752, 0.729, 0.472, 0.601, 0.735, 0.939, 1.0, 0.59, 0.638, 0.716, 0.909, 0.521], 'timbre': [50.039, 129.456, 112.887, 143.781, 43.682, -45.584, 33.586, 9.564, 2.465, 12.192, 13.351, 14.227]} \n\n{'start': 349.10023, 'duration': 0.21488, 'confidence': 0.994, 'loudness_start': -17.834, 'loudness_max_time': 0.07766, 'loudness_max': -3.409, 'pitches': [1.0, 0.514, 0.421, 0.444, 0.605, 0.7, 0.825, 0.451, 0.435, 0.477, 0.56, 0.604], 'timbre': [47.615, 157.098, 155.794, 34.899, 57.094, 40.695, 64.004, 14.73, -0.921, -1.365, -51.748, 28.223]} \n\n{'start': 349.3151, 'duration': 0.21483, 'confidence': 0.94, 'loudness_start': -17.52, 'loudness_max_time': 0.08107, 'loudness_max': -5.107, 'pitches': [0.486, 0.707, 0.652, 0.763, 0.971, 0.709, 0.933, 0.405, 0.283, 0.333, 0.566, 1.0], 'timbre': [46.352, 139.853, 158.376, 32.375, 59.246, 16.642, 48.866, 21.843, -6.269, 3.558, -53.362, 28.056]} \n\n{'start': 349.52993, 'duration': 0.19692, 'confidence': 0.996, 'loudness_start': -20.25, 'loudness_max_time': 0.06789, 'loudness_max': -4.462, 'pitches': [1.0, 0.728, 0.7, 0.499, 0.705, 0.711, 0.707, 0.386, 0.301, 0.508, 0.442, 0.702], 'timbre': [46.432, 115.66, 159.749, 50.76, 67.1, 30.421, 63.838, 35.442, -5.38, -0.232, -49.797, 28.222]} \n\n{'start': 349.72685, 'duration': 0.19814, 'confidence': 0.951, 'loudness_start': -18.9, 'loudness_max_time': 0.07288, 'loudness_max': -5.96, 'pitches': [0.655, 1.0, 0.835, 0.881, 0.979, 0.811, 0.506, 0.336, 0.52, 0.508, 0.709, 0.86], 'timbre': [46.335, 111.025, 163.603, 63.405, 65.709, 29.44, 68.128, 13.775, -13.856, 5.269, -46.735, 27.194]} \n\n{'start': 349.92499, 'duration': 0.21478, 'confidence': 0.978, 'loudness_start': -20.071, 'loudness_max_time': 0.07193, 'loudness_max': -5.466, 'pitches': [1.0, 0.782, 0.746, 0.906, 0.795, 0.526, 0.375, 0.276, 0.381, 0.414, 0.88, 0.537], 'timbre': [45.727, 88.818, 164.266, 43.281, 71.936, 26.273, 72.508, 28.748, -6.956, -5.521, -37.692, 32.265]} \n\n{'start': 350.13977, 'duration': 0.19728, 'confidence': 0.967, 'loudness_start': -18.601, 'loudness_max_time': 0.05329, 'loudness_max': -5.624, 'pitches': [0.748, 0.728, 1.0, 0.899, 0.874, 0.693, 0.541, 0.396, 0.389, 0.548, 0.734, 0.584], 'timbre': [47.113, 93.574, 141.26, 65.222, 75.14, 35.565, 63.598, 24.854, -5.57, -1.984, -26.853, 28.689]} \n\n{'start': 350.33705, 'duration': 0.21456, 'confidence': 1.0, 'loudness_start': -19.263, 'loudness_max_time': 0.06633, 'loudness_max': -4.124, 'pitches': [0.593, 0.663, 0.73, 1.0, 0.869, 0.725, 0.539, 0.337, 0.5, 0.608, 0.692, 0.672], 'timbre': [46.37, 98.227, 170.361, 39.58, 79.583, 30.139, 60.63, 25.636, -8.846, -3.558, -36.131, 24.68]} \n\n{'start': 350.55161, 'duration': 0.20304, 'confidence': 0.956, 'loudness_start': -17.959, 'loudness_max_time': 0.06855, 'loudness_max': -4.423, 'pitches': [0.767, 1.0, 0.988, 0.914, 0.965, 0.775, 0.522, 0.29, 0.672, 0.981, 0.891, 0.998], 'timbre': [46.88, 91.812, 174.032, 41.864, 72.916, 19.573, 60.204, 22.97, -9.032, -8.919, -49.026, 22.443]} \n\n{'start': 350.75465, 'duration': 0.2093, 'confidence': 0.959, 'loudness_start': -18.189, 'loudness_max_time': 0.06934, 'loudness_max': -4.451, 'pitches': [0.727, 0.759, 0.514, 0.683, 0.56, 0.779, 0.483, 0.434, 0.677, 0.786, 1.0, 0.939], 'timbre': [46.418, 82.111, 156.217, 38.289, 74.866, 22.547, 59.9, 11.832, 0.493, 3.746, -49.667, 17.624]} \n\n{'start': 350.96395, 'duration': 0.19696, 'confidence': 0.869, 'loudness_start': -17.842, 'loudness_max_time': 0.08345, 'loudness_max': -5.273, 'pitches': [0.78, 0.792, 0.833, 0.776, 0.536, 0.765, 0.4, 0.324, 0.441, 0.692, 1.0, 0.763], 'timbre': [46.278, 63.428, 159.489, 38.045, 54.783, 3.309, 60.799, 13.911, -7.804, 1.558, -41.517, 24.755]} \n\n{'start': 351.16091, 'duration': 0.21506, 'confidence': 0.922, 'loudness_start': -17.795, 'loudness_max_time': 0.08943, 'loudness_max': -4.17, 'pitches': [0.926, 1.0, 0.622, 0.753, 0.99, 0.873, 0.531, 0.45, 0.663, 0.856, 0.699, 0.585], 'timbre': [46.356, 75.144, 152.982, 21.943, 65.326, 8.296, 63.821, 4.438, 3.765, 4.116, -38.134, 19.87]} \n\n{'start': 351.37596, 'duration': 0.2268, 'confidence': 0.887, 'loudness_start': -17.771, 'loudness_max_time': 0.09349, 'loudness_max': -4.093, 'pitches': [0.505, 0.567, 0.427, 0.591, 0.516, 0.698, 0.504, 0.418, 0.374, 1.0, 0.632, 0.576], 'timbre': [46.479, 61.05, 154.043, 31.693, 65.878, 1.772, 60.162, 19.15, 1.789, -0.491, -46.322, 13.459]} \n\n{'start': 351.60277, 'duration': 0.20844, 'confidence': 0.834, 'loudness_start': -17.105, 'loudness_max_time': 0.0715, 'loudness_max': -4.437, 'pitches': [0.649, 0.561, 0.585, 0.447, 0.523, 0.736, 0.411, 0.745, 1.0, 0.728, 0.628, 0.757], 'timbre': [46.202, 54.839, 144.658, 28.271, 60.961, -18.574, 52.676, 0.424, -13.345, 19.184, -42.891, 20.448]} \n\n{'start': 351.8112, 'duration': 0.13347, 'confidence': 0.387, 'loudness_start': -18.04, 'loudness_max_time': 0.04998, 'loudness_max': -12.717, 'pitches': [0.942, 1.0, 0.635, 0.467, 0.561, 0.81, 0.382, 0.564, 0.896, 0.812, 0.617, 0.695], 'timbre': [44.467, 28.141, 117.693, 43.294, 52.299, -14.916, 45.569, 2.701, 4.725, -10.31, -15.64, 8.315]} \n\n{'start': 351.94467, 'duration': 0.17946, 'confidence': 1.0, 'loudness_start': -17.955, 'loudness_max_time': 0.07635, 'loudness_max': -2.473, 'pitches': [0.892, 0.806, 0.79, 0.637, 0.435, 0.568, 0.379, 0.394, 0.63, 0.625, 0.895, 1.0], 'timbre': [51.024, 88.699, 83.035, 4.416, 41.095, 45.25, -3.668, 1.275, -19.353, -20.81, -24.494, 5.026]} \n\n{'start': 352.12413, 'duration': 0.15741, 'confidence': 0.806, 'loudness_start': -15.806, 'loudness_max_time': 0.02274, 'loudness_max': -3.427, 'pitches': [0.393, 0.408, 0.546, 0.855, 0.668, 0.823, 0.53, 0.586, 1.0, 0.455, 0.444, 0.441], 'timbre': [53.935, 23.49, 92.626, 45.734, 49.122, -28.535, 13.871, 7.508, -5.958, -4.491, -24.321, 0.087]} \n\n{'start': 352.28154, 'duration': 0.22023, 'confidence': 0.562, 'loudness_start': -12.683, 'loudness_max_time': 0.09147, 'loudness_max': -6.218, 'pitches': [0.292, 0.31, 0.334, 0.442, 0.319, 0.323, 0.411, 0.445, 1.0, 0.483, 0.394, 0.442], 'timbre': [50.757, 16.017, 93.347, 34.604, 62.772, -12.609, 24.192, 19.371, 0.561, 7.763, -18.396, -2.355]} \n\n{'start': 352.50177, 'duration': 0.19252, 'confidence': 0.853, 'loudness_start': -15.17, 'loudness_max_time': 0.05986, 'loudness_max': -3.643, 'pitches': [0.345, 0.222, 0.257, 0.276, 0.317, 0.369, 0.479, 0.638, 1.0, 0.535, 0.38, 0.42], 'timbre': [50.914, 40.755, 92.731, 46.729, 67.853, 0.856, 41.008, 26.857, 20.149, -21.791, -22.072, -6.209]} \n\n{'start': 352.69429, 'duration': 0.19034, 'confidence': 0.854, 'loudness_start': -15.381, 'loudness_max_time': 0.05905, 'loudness_max': -2.776, 'pitches': [0.37, 0.359, 0.337, 0.471, 0.579, 0.688, 0.729, 1.0, 0.668, 0.393, 0.363, 0.454], 'timbre': [51.804, 67.32, 103.162, 52.446, 70.418, 2.834, 28.501, 12.728, 10.323, 4.663, -26.548, -6.583]} \n\n{'start': 352.88463, 'duration': 0.19175, 'confidence': 0.78, 'loudness_start': -14.874, 'loudness_max_time': 0.08692, 'loudness_max': -5.714, 'pitches': [0.501, 0.386, 0.511, 0.597, 0.63, 0.676, 0.705, 1.0, 0.99, 0.667, 0.544, 0.667], 'timbre': [48.697, 66.996, 108.607, 25.664, 68.81, 7.959, 26.121, 6.751, 4.636, -7.888, -36.219, 2.018]} \n\n{'start': 353.07637, 'duration': 0.22703, 'confidence': 0.697, 'loudness_start': -15.828, 'loudness_max_time': 0.10814, 'loudness_max': -6.739, 'pitches': [0.342, 0.45, 0.424, 0.426, 0.507, 0.623, 1.0, 0.752, 0.571, 0.597, 0.414, 0.414], 'timbre': [46.489, 67.447, 112.025, 14.277, 64.764, -6.325, 27.656, 11.001, -5.76, -3.387, -36.558, -5.201]} \n\n{'start': 353.3034, 'duration': 0.21429, 'confidence': 0.778, 'loudness_start': -17.807, 'loudness_max_time': 0.07088, 'loudness_max': -8.555, 'pitches': [0.446, 0.442, 0.378, 0.407, 0.402, 0.553, 1.0, 0.75, 0.451, 0.715, 0.297, 0.365], 'timbre': [45.032, 102.318, 112.676, 44.161, 63.416, 8.181, 30.654, 4.182, -11.167, -14.241, -37.998, -7.371]} \n\n{'start': 353.51769, 'duration': 0.19751, 'confidence': 0.765, 'loudness_start': -19.015, 'loudness_max_time': 0.06649, 'loudness_max': -9.723, 'pitches': [0.359, 0.354, 0.312, 0.428, 0.691, 0.702, 1.0, 0.908, 0.516, 0.486, 0.334, 0.354], 'timbre': [44.005, 124.849, 127.359, 75.68, 62.546, 8.535, 25.89, 3.281, -12.193, -3.504, -34.587, -1.121]} \n\n{'start': 353.71519, 'duration': 0.1512, 'confidence': 0.897, 'loudness_start': -21.43, 'loudness_max_time': 0.01753, 'loudness_max': -8.005, 'pitches': [0.386, 0.457, 0.433, 0.412, 0.778, 0.594, 1.0, 0.83, 0.562, 0.546, 0.415, 0.327], 'timbre': [44.276, 118.37, 119.508, 119.576, 37.538, -64.751, 19.975, 14.894, -17.251, 21.649, 10.397, -4.089]} \n\n{'start': 353.86639, 'duration': 0.18027, 'confidence': 0.695, 'loudness_start': -22.34, 'loudness_max_time': 0.04109, 'loudness_max': -13.147, 'pitches': [0.313, 0.449, 0.447, 0.92, 0.738, 0.655, 0.931, 1.0, 0.865, 0.745, 0.297, 0.312], 'timbre': [41.861, 105.41, 124.301, 61.183, 59.99, -7.677, 16.201, 16.686, -14.751, 7.476, -12.343, 3.467]} \n\n{'start': 354.04667, 'duration': 0.12118, 'confidence': 0.68, 'loudness_start': -23.381, 'loudness_max_time': 0.00415, 'loudness_max': -11.362, 'pitches': [0.69, 0.685, 0.671, 1.0, 0.91, 0.729, 0.917, 0.86, 0.629, 0.536, 0.475, 0.3], 'timbre': [41.254, 57.32, 86.54, 75.965, 50.306, -96.77, -8.461, 18.879, 0.176, -15.503, -8.576, 4.074]} \n\n{'start': 354.16785, 'duration': 0.19723, 'confidence': 0.792, 'loudness_start': -24.146, 'loudness_max_time': 0.03202, 'loudness_max': -12.23, 'pitches': [0.573, 0.836, 0.451, 0.636, 1.0, 0.678, 0.491, 0.377, 0.33, 0.352, 0.284, 0.446], 'timbre': [39.905, 48.134, 99.282, 76.415, 52.764, 3.651, 3.214, 15.483, -27.119, -2.998, 15.042, 7.904]} \n\n{'start': 354.36508, 'duration': 0.11016, 'confidence': 0.795, 'loudness_start': -24.713, 'loudness_max_time': 0.00982, 'loudness_max': -13.559, 'pitches': [0.579, 0.741, 0.458, 0.511, 1.0, 0.724, 0.449, 0.663, 0.905, 0.397, 0.47, 0.349], 'timbre': [39.59, 9.665, 78.275, 80.906, 45.19, -78.776, -31.553, 25.565, -22.2, -22.176, 2.654, 4.212]} \n\n{'start': 354.47524, 'duration': 0.19796, 'confidence': 0.651, 'loudness_start': -25.772, 'loudness_max_time': 0.05485, 'loudness_max': -17.107, 'pitches': [0.962, 0.629, 0.394, 0.327, 0.454, 0.511, 0.359, 0.334, 0.267, 0.243, 0.244, 1.0], 'timbre': [37.287, 13.639, 80.403, 15.521, 43.572, -10.558, 13.928, 16.042, -42.583, -12.235, -17.973, 2.964]} \n\n{'start': 354.6732, 'duration': 0.13351, 'confidence': 0.55, 'loudness_start': -25.48, 'loudness_max_time': 0.01247, 'loudness_max': -17.235, 'pitches': [0.584, 0.669, 0.256, 0.225, 0.553, 0.683, 0.916, 1.0, 0.654, 0.643, 0.178, 0.422], 'timbre': [35.674, -1.238, 53.115, 75.55, 71.197, -79.029, -21.704, 35.457, -33.857, -3.496, 5.248, 6.795]} \n\n{'start': 354.80671, 'duration': 0.16213, 'confidence': 0.732, 'loudness_start': -30.144, 'loudness_max_time': 0.02596, 'loudness_max': -19.538, 'pitches': [0.785, 0.298, 0.14, 0.142, 0.115, 0.115, 0.194, 0.193, 0.538, 0.565, 1.0, 0.179], 'timbre': [34.019, -2.688, 29.449, 43.25, 75.112, -17.238, 8.835, 21.924, -34.632, 7.452, 23.807, 8.166]} \n\n{'start': 354.96884, 'duration': 0.16249, 'confidence': 0.429, 'loudness_start': -29.571, 'loudness_max_time': 0.0256, 'loudness_max': -23.667, 'pitches': [0.523, 0.708, 0.566, 0.549, 0.9, 0.901, 1.0, 0.994, 0.722, 0.733, 0.445, 0.307], 'timbre': [31.263, 2.26, 15.63, 36.651, 64.648, -40.435, -1.26, 29.093, -29.437, -3.567, 15.326, 23.295]} \n\n{'start': 355.13134, 'duration': 0.1458, 'confidence': 0.497, 'loudness_start': -33.562, 'loudness_max_time': 0.00984, 'loudness_max': -26.068, 'pitches': [1.0, 0.464, 0.225, 0.166, 0.697, 0.736, 0.87, 0.958, 0.8, 0.736, 0.569, 0.396], 'timbre': [28.925, 2.398, 5.354, 24.012, 61.285, -82.121, -7.293, 31.859, -29.396, -17.156, 8.38, 36.502]} \n\n{'start': 355.27714, 'duration': 0.32694, 'confidence': 1.0, 'loudness_start': -35.227, 'loudness_max_time': 0.02404, 'loudness_max': -9.351, 'pitches': [0.549, 1.0, 0.026, 0.024, 0.019, 0.052, 0.043, 0.031, 0.018, 0.017, 0.021, 0.684], 'timbre': [39.656, 40.941, -86.371, 138.36, 14.786, 20.354, -5.114, -11.671, -29.4, 42.359, 30.406, 1.465]} \n\n{'start': 355.60408, 'duration': 2.44925, 'confidence': 1.0, 'loudness_start': -33.527, 'loudness_max_time': 0.07907, 'loudness_max': -15.755, 'loudness_end': -60.0, 'pitches': [0.032, 0.053, 0.113, 0.503, 1.0, 0.789, 0.825, 0.49, 0.37, 0.374, 0.168, 0.079], 'timbre': [19.805, 61.69, -112.991, 195.556, 5.604, -14.512, -12.926, 113.678, -2.025, -47.297, -59.593, -8.78]} \n\n"
    }
   ],
   "source": [
    "for i in range(len(audio_analysis['segments'])):\n",
    "    print(audio_analysis['segments'][i], '\\n')"
   ]
  },
  {
   "cell_type": "markdown",
   "metadata": {},
   "source": [
    "# Simple functions for analyzing audio_analysis pieces"
   ]
  },
  {
   "cell_type": "code",
   "execution_count": 19,
   "metadata": {},
   "outputs": [
    {
     "data": {
      "text/plain": "'00:05:45'"
     },
     "execution_count": 19,
     "metadata": {},
     "output_type": "execute_result"
    }
   ],
   "source": [
    "def time(time_val):\n",
    "    \"\"\" Converts float to time format \"\"\"\n",
    "    seconds = time_val\n",
    "    minutes, seconds = divmod(seconds, 60)\n",
    "    hours, minutes = divmod(minutes, 60)\n",
    "\n",
    "    return \"%02d:%02d:%02d\"%(hours,minutes,seconds)\n",
    "\n",
    "time(345.17109)"
   ]
  },
  {
   "cell_type": "code",
   "execution_count": 79,
   "metadata": {},
   "outputs": [
    {
     "data": {
      "text/plain": "'A'"
     },
     "execution_count": 79,
     "metadata": {},
     "output_type": "execute_result"
    }
   ],
   "source": [
    "def key(key_val):\n",
    "    \"\"\"Finds the key of the song (via the mode (stat) of the song)\"\"\"\n",
    "    key_dict = {0:'C', 1:'C#/Db', 2:'D', 3:'D#/Eb', 4:'E', 5:'F', 6:'F#/Gb', 7:'G', 8:'G#/Ab', 9:'A', 10:'A#/Bb', 11:'B'}\n",
    "    key_list = []\n",
    "\n",
    "    for i in range(len(key_val)):\n",
    "        key = key_val[i]['key']\n",
    "        key_list.append(key)\n",
    "\n",
    "    # print(key_list) # Debugging line\n",
    "    key_mode = int(round(sum(key_list) / len(key_val)))\n",
    "    return key_dict[key_mode]\n",
    "\n",
    "key_val = audio_analysis['sections']\n",
    "key(key_val)"
   ]
  },
  {
   "cell_type": "code",
   "execution_count": 72,
   "metadata": {},
   "outputs": [
    {
     "data": {
      "text/plain": "'major'"
     },
     "execution_count": 72,
     "metadata": {},
     "output_type": "execute_result"
    }
   ],
   "source": [
    "def mode(mode_val):\n",
    "    \"\"\"Finds the mode (stat) of the mode (musical) for the song\"\"\"\n",
    "    mode_dict = {-1:'no result', 0:'minor', 1:'major'}\n",
    "    mode_list = []\n",
    "\n",
    "    for i in range(len(mode_val)):\n",
    "        mode = mode_val[i]['mode']\n",
    "        mode_list.append(mode)\n",
    "    \n",
    "    mode_mode = int(round(sum(mode_list) / len(mode_val)))\n",
    "    return mode_dict[mode_mode]\n",
    "\n",
    "mode_val = audio_analysis['sections']\n",
    "mode(mode_val)"
   ]
  },
  {
   "cell_type": "code",
   "execution_count": 81,
   "metadata": {},
   "outputs": [
    {
     "name": "stdout",
     "output_type": "stream",
     "text": "Length of list: 12\n"
    },
    {
     "data": {
      "text/plain": "[50.58830560690089,\n 45.95464879852127,\n 11.463966112138015,\n 11.395206407886649,\n 34.503014787430644,\n -26.386958102279703,\n 2.2289439309919934,\n -1.1751417128773933,\n -10.519796056685163,\n 0.672508934072705,\n -10.168390634627231,\n -2.0421059765865706]"
     },
     "execution_count": 81,
     "metadata": {},
     "output_type": "execute_result"
    }
   ],
   "source": [
    "def avg_timbre(timbre_val):\n",
    "    \"\"\"finds average timbre for a song\"\"\"\n",
    "    vals_list = []\n",
    "    for i in range(len(timbre_val)):\n",
    "        val = timbre_val[i]['timbre']\n",
    "        vals_list.append(val)\n",
    "        # print(len(val), val) # Debugging line\n",
    "\n",
    "    # Averaging values\n",
    "    averages_list = [sum(item) / len(item) for item in zip(*vals_list)]\n",
    "    print(f'Length of list: {len(averages_list)}')\n",
    "    return averages_list\n",
    "\n",
    "vals = audio_analysis['segments']\n",
    "avg_timbre(vals)"
   ]
  },
  {
   "cell_type": "code",
   "execution_count": 90,
   "metadata": {},
   "outputs": [
    {
     "data": {
      "text/plain": "'4/4'"
     },
     "execution_count": 90,
     "metadata": {},
     "output_type": "execute_result"
    }
   ],
   "source": [
    "def time_signature(time_sig_val):\n",
    "    \"\"\" Finds the time signature of the song \"\"\"\n",
    "    time_sig_dict = {3:'3/4', 4:'4/4', 5:'5/4', 6:'6/4', 7:'7/4'}\n",
    "    time_sig_list = []\n",
    "\n",
    "    for i in range(len(time_sig_val)):\n",
    "        time_sig = time_sig_val[i]['time_signature']\n",
    "        time_sig_list.append(time_sig)\n",
    "\n",
    "    # print(time_sig_list) # Debugging line\n",
    "    time_sig_mode = int(round(sum(time_sig_list) / len(time_sig_val)))\n",
    "    return time_sig_dict[time_sig_mode]\n",
    "\n",
    "time_sig_val = audio_analysis['sections']\n",
    "time_signature(time_sig_val)"
   ]
  },
  {
   "cell_type": "code",
   "execution_count": null,
   "metadata": {},
   "outputs": [],
   "source": []
  }
 ],
 "metadata": {
  "colab": {
   "collapsed_sections": [],
   "name": "Sean_Hobin_Spotify_API_Starter.ipynb",
   "provenance": []
  },
  "kernelspec": {
   "display_name": "Python (DL/NLP)",
   "language": "python",
   "name": "python_dl_nlp"
  },
  "language_info": {
   "codemirror_mode": {
    "name": "ipython",
    "version": 3
   },
   "file_extension": ".py",
   "mimetype": "text/x-python",
   "name": "python",
   "nbconvert_exporter": "python",
   "pygments_lexer": "ipython3",
   "version": "3.7.4-final"
  }
 },
 "nbformat": 4,
 "nbformat_minor": 1
}