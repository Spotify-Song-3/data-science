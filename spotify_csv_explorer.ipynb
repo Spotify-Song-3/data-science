{
 "nbformat": 4,
 "nbformat_minor": 2,
 "metadata": {
  "language_info": {
   "name": "python",
   "codemirror_mode": {
    "name": "ipython",
    "version": 3
   },
   "version": "3.7.4-final"
  },
  "orig_nbformat": 2,
  "file_extension": ".py",
  "mimetype": "text/x-python",
  "name": "python",
  "npconvert_exporter": "python",
  "pygments_lexer": "ipython3",
  "version": 3,
  "kernelspec": {
   "name": "python_dl_nlp",
   "display_name": "Python (DL/NLP)"
  }
 },
 "cells": [
  {
   "cell_type": "code",
   "execution_count": 53,
   "metadata": {},
   "outputs": [],
   "source": [
    "import pandas as pd"
   ]
  },
  {
   "cell_type": "code",
   "execution_count": 43,
   "metadata": {},
   "outputs": [
    {
     "data": {
      "text/html": "<div>\n<style scoped>\n    .dataframe tbody tr th:only-of-type {\n        vertical-align: middle;\n    }\n\n    .dataframe tbody tr th {\n        vertical-align: top;\n    }\n\n    .dataframe thead th {\n        text-align: right;\n    }\n</style>\n<table border=\"1\" class=\"dataframe\">\n  <thead>\n    <tr style=\"text-align: right;\">\n      <th></th>\n      <th>artist</th>\n    </tr>\n  </thead>\n  <tbody>\n    <tr>\n      <th>0</th>\n      <td>2:54</td>\n    </tr>\n    <tr>\n      <th>1</th>\n      <td>2:54</td>\n    </tr>\n    <tr>\n      <th>2</th>\n      <td>2:54</td>\n    </tr>\n    <tr>\n      <th>3</th>\n      <td>2:54</td>\n    </tr>\n    <tr>\n      <th>4</th>\n      <td>2:54</td>\n    </tr>\n  </tbody>\n</table>\n</div>",
      "text/plain": "  artist\n0   2:54\n1   2:54\n2   2:54\n3   2:54\n4   2:54"
     },
     "execution_count": 43,
     "metadata": {},
     "output_type": "execute_result"
    }
   ],
   "source": [
    "df = pd.read_csv('spotify_dataset.csv', nrows=1200000, usecols=[1])\n",
    "df.columns = ['artist']\n",
    "df.head()"
   ]
  },
  {
   "cell_type": "code",
   "execution_count": 52,
   "metadata": {},
   "outputs": [],
   "source": [
    "artist_df = df['artist'].unique()"
   ]
  },
  {
   "cell_type": "code",
   "execution_count": 59,
   "metadata": {},
   "outputs": [
    {
     "data": {
      "text/html": "<div>\n<style scoped>\n    .dataframe tbody tr th:only-of-type {\n        vertical-align: middle;\n    }\n\n    .dataframe tbody tr th {\n        vertical-align: top;\n    }\n\n    .dataframe thead th {\n        text-align: right;\n    }\n</style>\n<table border=\"1\" class=\"dataframe\">\n  <thead>\n    <tr style=\"text-align: right;\">\n      <th></th>\n      <th>0</th>\n    </tr>\n  </thead>\n  <tbody>\n    <tr>\n      <th>0</th>\n      <td>2:54</td>\n    </tr>\n    <tr>\n      <th>1</th>\n      <td>6:16</td>\n    </tr>\n    <tr>\n      <th>2</th>\n      <td>10:32</td>\n    </tr>\n    <tr>\n      <th>3</th>\n      <td>21:03</td>\n    </tr>\n    <tr>\n      <th>4</th>\n      <td>1</td>\n    </tr>\n    <tr>\n      <th>5</th>\n      <td>2</td>\n    </tr>\n    <tr>\n      <th>6</th>\n      <td>3</td>\n    </tr>\n    <tr>\n      <th>7</th>\n      <td>4</td>\n    </tr>\n    <tr>\n      <th>8</th>\n      <td>5</td>\n    </tr>\n    <tr>\n      <th>9</th>\n      <td>6</td>\n    </tr>\n    <tr>\n      <th>10</th>\n      <td>7</td>\n    </tr>\n    <tr>\n      <th>11</th>\n      <td>8</td>\n    </tr>\n    <tr>\n      <th>12</th>\n      <td>9</td>\n    </tr>\n    <tr>\n      <th>13</th>\n      <td>10</td>\n    </tr>\n    <tr>\n      <th>14</th>\n      <td>11</td>\n    </tr>\n    <tr>\n      <th>15</th>\n      <td>12</td>\n    </tr>\n    <tr>\n      <th>16</th>\n      <td>13</td>\n    </tr>\n    <tr>\n      <th>17</th>\n      <td>14</td>\n    </tr>\n    <tr>\n      <th>18</th>\n      <td>15</td>\n    </tr>\n    <tr>\n      <th>19</th>\n      <td>16</td>\n    </tr>\n    <tr>\n      <th>20</th>\n      <td>17</td>\n    </tr>\n    <tr>\n      <th>21</th>\n      <td>18</td>\n    </tr>\n    <tr>\n      <th>22</th>\n      <td>19</td>\n    </tr>\n    <tr>\n      <th>23</th>\n      <td>20</td>\n    </tr>\n    <tr>\n      <th>24</th>\n      <td>21</td>\n    </tr>\n    <tr>\n      <th>25</th>\n      <td>23</td>\n    </tr>\n    <tr>\n      <th>26</th>\n      <td>30</td>\n    </tr>\n    <tr>\n      <th>27</th>\n      <td>36</td>\n    </tr>\n    <tr>\n      <th>28</th>\n      <td>44</td>\n    </tr>\n    <tr>\n      <th>29</th>\n      <td>45</td>\n    </tr>\n  </tbody>\n</table>\n</div>",
      "text/plain": "        0\n0    2:54\n1    6:16\n2   10:32\n3   21:03\n4       1\n5       2\n6       3\n7       4\n8       5\n9       6\n10      7\n11      8\n12      9\n13     10\n14     11\n15     12\n16     13\n17     14\n18     15\n19     16\n20     17\n21     18\n22     19\n23     20\n24     21\n25     23\n26     30\n27     36\n28     44\n29     45"
     },
     "execution_count": 59,
     "metadata": {},
     "output_type": "execute_result"
    }
   ],
   "source": [
    "artists = pd.DataFrame(artist_df)\n",
    "artists.head(30)"
   ]
  },
  {
   "cell_type": "code",
   "execution_count": 63,
   "metadata": {},
   "outputs": [],
   "source": [
    "artists.to_csv('artists.csv', index=False)"
   ]
  }
 ]
}